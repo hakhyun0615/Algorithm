{
 "cells": [
  {
   "cell_type": "code",
   "execution_count": 4,
   "metadata": {},
   "outputs": [
    {
     "name": "stdout",
     "output_type": "stream",
     "text": [
      "500\n",
      "260\n",
      "2\n",
      "100\n",
      "60\n",
      "4\n",
      "50\n",
      "10\n",
      "5\n",
      "10\n",
      "0\n",
      "6\n",
      "6\n"
     ]
    }
   ],
   "source": [
    "# 금액 입력받기\n",
    "price = int(input())\n",
    "\n",
    "# 사용가능한 동전 종류\n",
    "coin_type = [500, 100, 50, 10]\n",
    "\n",
    "# 거슬러 줘야할 동전의 최소 개수\n",
    "coin_total = 0\n",
    "\n",
    "for coin in coin_type:\n",
    "    coin_total += price // coin\n",
    "    price %= coin\n",
    "\n",
    "print(coin_total)"
   ]
  }
 ],
 "metadata": {
  "kernelspec": {
   "display_name": "Python 3",
   "language": "python",
   "name": "python3"
  },
  "language_info": {
   "codemirror_mode": {
    "name": "ipython",
    "version": 3
   },
   "file_extension": ".py",
   "mimetype": "text/x-python",
   "name": "python",
   "nbconvert_exporter": "python",
   "pygments_lexer": "ipython3",
   "version": "3.11.4"
  },
  "orig_nbformat": 4
 },
 "nbformat": 4,
 "nbformat_minor": 2
}
