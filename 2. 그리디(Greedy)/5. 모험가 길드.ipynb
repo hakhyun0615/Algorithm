{
 "cells": [
  {
   "cell_type": "code",
   "execution_count": null,
   "metadata": {},
   "outputs": [],
   "source": [
    "n = int(input())\n",
    "people = list(map(int, input().split()))\n",
    "people.sort()\n",
    "\n",
    "\n",
    "result = 0    \n",
    "count = 0     \n",
    "\n",
    "for panic in people:\n",
    "    count += 1 \n",
    "    if count >= panic:\n",
    "        result += 1   \n",
    "        count = 0     \n",
    "        \n",
    "print(result)"
   ]
  }
 ],
 "metadata": {
  "language_info": {
   "name": "python"
  }
 },
 "nbformat": 4,
 "nbformat_minor": 2
}
