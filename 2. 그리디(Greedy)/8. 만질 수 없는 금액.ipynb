{
 "cells": [
  {
   "cell_type": "code",
   "execution_count": null,
   "metadata": {},
   "outputs": [],
   "source": [
    "n = int(input())\n",
    "\n",
    "coin = list(map(int,input().split()))\n",
    "coin.sort()\n",
    " \n",
    "target = 1\n",
    "for i in coin:\n",
    "  if i > target:\n",
    "    break\n",
    "  else:\n",
    "    target+=i\n",
    " \n",
    "print(target)"
   ]
  }
 ],
 "metadata": {
  "language_info": {
   "name": "python"
  }
 },
 "nbformat": 4,
 "nbformat_minor": 2
}
