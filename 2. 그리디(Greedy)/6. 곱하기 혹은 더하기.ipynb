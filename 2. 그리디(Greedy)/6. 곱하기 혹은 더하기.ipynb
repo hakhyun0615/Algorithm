{
 "cells": [
  {
   "cell_type": "code",
   "execution_count": null,
   "metadata": {},
   "outputs": [],
   "source": [
    "n = list(map(int, input()))\n",
    "\n",
    "result = n[0]\n",
    "\n",
    "for i in range(1, len(n)):   \n",
    "    if n[i] <= 1 or result <= 1:            \n",
    "        result += n[i]\n",
    "    else :                      \n",
    "        result *= n[i]\n",
    "        \n",
    "print(result)"
   ]
  }
 ],
 "metadata": {
  "language_info": {
   "name": "python"
  }
 },
 "nbformat": 4,
 "nbformat_minor": 2
}
