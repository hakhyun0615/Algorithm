{
 "cells": [
  {
   "cell_type": "code",
   "execution_count": null,
   "metadata": {},
   "outputs": [],
   "source": [
    "import heapq\n",
    "\n",
    "def solution(food_times, k):\n",
    "    if sum(food_times) <= k:\n",
    "        return -1\n",
    "    \n",
    "    q = [] \n",
    "    for i in range(len(food_times)):\n",
    "        heapq.heappush(q, (food_times[i], i+1)) \n",
    "        \n",
    "    sum_value = 0 \n",
    "    previous = 0 \n",
    "    length = len(food_times) \n",
    "    \n",
    "    \n",
    "    while sum_value + ((q[0][0] - previous) * length) <= k: \n",
    "        now = heapq.heappop(q)[0]\n",
    "        sum_value += (now - previous) * length \n",
    "        length -= 1 \n",
    "        previous = now \n",
    "        \n",
    "    result = sorted(q, key = lambda x: x[1]) \n",
    "    \n",
    "    return result[(k - sum_value) % length][1] "
   ]
  }
 ],
 "metadata": {
  "language_info": {
   "name": "python"
  }
 },
 "nbformat": 4,
 "nbformat_minor": 2
}
