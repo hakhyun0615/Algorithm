{
 "cells": [
  {
   "cell_type": "code",
   "execution_count": null,
   "metadata": {},
   "outputs": [],
   "source": [
    "arr = input()\n",
    " \n",
    "count0 = 0 \n",
    "count1 = 0 \n",
    " \n",
    "if arr[0] == '1':\n",
    "  count0+=1\n",
    "else:\n",
    "  count1+=1\n",
    " \n",
    "for i in range(1, len(arr)-1):\n",
    "  if arr[i] != arr[i+1]: \n",
    "    if arr[i+1] == '1':\n",
    "      count0 += 1\n",
    "    else:\n",
    "      count1 +=1\n",
    " \n",
    "print(min(count0,count1))"
   ]
  }
 ],
 "metadata": {
  "language_info": {
   "name": "python"
  }
 },
 "nbformat": 4,
 "nbformat_minor": 2
}
