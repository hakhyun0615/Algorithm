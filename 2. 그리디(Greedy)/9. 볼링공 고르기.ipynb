{
 "cells": [
  {
   "cell_type": "code",
   "execution_count": null,
   "metadata": {},
   "outputs": [],
   "source": [
    "n, m = map(int,input().split())\n",
    "arr = list(map(int,input().split()))\n",
    " \n",
    "result = 0\n",
    " \n",
    "for i in range(n-1):\n",
    "  for j in range(i+1,n): \n",
    "    if arr[i] != arr[j]:\n",
    "      result += 1\n",
    " \n",
    "print(result)"
   ]
  }
 ],
 "metadata": {
  "language_info": {
   "name": "python"
  }
 },
 "nbformat": 4,
 "nbformat_minor": 2
}
