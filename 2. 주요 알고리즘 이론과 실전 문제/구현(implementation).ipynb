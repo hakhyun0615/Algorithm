{
 "cells": [
  {
   "attachments": {},
   "cell_type": "markdown",
   "metadata": {},
   "source": [
    "# 상하좌우"
   ]
  },
  {
   "attachments": {},
   "cell_type": "markdown",
   "metadata": {},
   "source": [
    "## 내 풀이"
   ]
  },
  {
   "cell_type": "code",
   "execution_count": 4,
   "metadata": {},
   "outputs": [
    {
     "name": "stdout",
     "output_type": "stream",
     "text": [
      "3 4\n"
     ]
    }
   ],
   "source": [
    "# N 입력받기\n",
    "n = int(input())\n",
    "# move_list 입력받기\n",
    "move_list = input().split()\n",
    "## split하면 알아서 list가 되므로 map할 때 아니면 list로 묶어줄 필요없다\n",
    "## move_list = list(input().split())\n",
    "\n",
    "\n",
    "x,y = 1,1\n",
    "## x = 1\n",
    "## y = 1\n",
    "\n",
    "# move_list에 따라 움직이기\n",
    "for move in move_list:\n",
    "    if (move == 'R'):\n",
    "        if (y == 5):\n",
    "            continue\n",
    "        y += 1\n",
    "    elif (move == 'L'):\n",
    "        if (y == 1):\n",
    "            continue\n",
    "        y -= 1\n",
    "    elif (move == 'D'):\n",
    "        if (x == 5):\n",
    "            continue\n",
    "        x += 1\n",
    "    elif (move == 'U'):\n",
    "        if (x == 1):\n",
    "            continue\n",
    "        x -= 1\n",
    "\n",
    "print(x, y)"
   ]
  },
  {
   "attachments": {},
   "cell_type": "markdown",
   "metadata": {},
   "source": [
    "## 답안 풀이"
   ]
  },
  {
   "cell_type": "code",
   "execution_count": 12,
   "metadata": {},
   "outputs": [
    {
     "name": "stdout",
     "output_type": "stream",
     "text": [
      "3 4\n"
     ]
    }
   ],
   "source": [
    "# N 입력받기\n",
    "n = int(input())\n",
    "# move_list 입력받기\n",
    "move_list = input().split()\n",
    "\n",
    "x,y = 1,1\n",
    "\n",
    "# move_type에 따른 이동방향 정의\n",
    "dx = [0,0,-1,1]\n",
    "dy = [-1,1,0,0]\n",
    "move_type = ['L','R','U','D']\n",
    "\n",
    "for move in move_list:\n",
    "    # move_type에 따라 움직이기\n",
    "    for i in range(len(move_type)):\n",
    "        if move == move_type[i]:\n",
    "            nx = x + dx[i]\n",
    "            ny = y + dy[i]\n",
    "    # 벗어나면 무시하기\n",
    "    if nx < 1 or nx > 5 or ny < 1 or ny > 5:\n",
    "        continue\n",
    "    # 벗어나지 않으면 이동 수행하기\n",
    "    x = nx\n",
    "    y = ny\n",
    "\n",
    "print(x, y)"
   ]
  },
  {
   "attachments": {},
   "cell_type": "markdown",
   "metadata": {},
   "source": [
    "# 시각"
   ]
  },
  {
   "attachments": {},
   "cell_type": "markdown",
   "metadata": {},
   "source": [
    "## 내 풀이"
   ]
  },
  {
   "cell_type": "code",
   "execution_count": 16,
   "metadata": {},
   "outputs": [
    {
     "name": "stdout",
     "output_type": "stream",
     "text": [
      "11475\n"
     ]
    }
   ],
   "source": [
    "# N 입력받기\n",
    "n = int(input())\n",
    "\n",
    "# 시가 3 이상일 때 3 미만일 때를 구분해서 고려하기\n",
    "if n >= 3:\n",
    "    time = n\n",
    "else:\n",
    "    time = n+1\n",
    "\n",
    "# 전체 경우의 수에서 3이 아예 없는 경우를 빼기\n",
    "result = (n+1)*6*10*6*10 - time*5*9*5*9\n",
    "\n",
    "print(result)"
   ]
  },
  {
   "attachments": {},
   "cell_type": "markdown",
   "metadata": {},
   "source": [
    "# 답안 풀이(문자열로 접근)"
   ]
  },
  {
   "cell_type": "code",
   "execution_count": 18,
   "metadata": {},
   "outputs": [
    {
     "name": "stdout",
     "output_type": "stream",
     "text": [
      "11475\n"
     ]
    }
   ],
   "source": [
    "# N 입력받기\n",
    "n = int(input())\n",
    "\n",
    "count = 0\n",
    "\n",
    "for i in range(n+1):\n",
    "    for j in range(60):\n",
    "        for k in range(60):\n",
    "            # 시분초를 문자열로 합친 후 3이 문자열에 포함되어있는지 확인 ex) 03시 45분 30초 -> 034530\n",
    "            if '3' in str(i)+str(j)+str(k):\n",
    "                count += 1\n",
    "\n",
    "print(count)\n"
   ]
  },
  {
   "attachments": {},
   "cell_type": "markdown",
   "metadata": {},
   "source": [
    "## 왕실의 나이트"
   ]
  },
  {
   "attachments": {},
   "cell_type": "markdown",
   "metadata": {},
   "source": [
    "## 내 풀이"
   ]
  },
  {
   "cell_type": "code",
   "execution_count": 31,
   "metadata": {},
   "outputs": [
    {
     "name": "stdout",
     "output_type": "stream",
     "text": [
      "2\n"
     ]
    }
   ],
   "source": [
    "# 좌표 입력받기\n",
    "start = input()\n",
    "# x,y 좌표로 분리하기\n",
    "start_x = int(start[1])\n",
    "start_y = ord(start[0])-ord('a')+1\n",
    "## ord: 문자를 아스키코드로 변환 ex) ord('a') = 97\n",
    "\n",
    "# 움직일 수 있는 모든 경우의 수\n",
    "dx = [-1,1,2,2,1,-1,-2,-2]\n",
    "dy = [-2,-2,-1,1,2,2,1,-1]\n",
    "\n",
    "count = 0\n",
    "\n",
    "for i in range(len(dx)):\n",
    "    # 도착하는 모든 경우의 수\n",
    "    finish_x = start_x + dx[i]\n",
    "    finish_y = start_y + dy[i]\n",
    "    # 말 밖으로 나가면 무시\n",
    "    if finish_x>8 or finish_x<1 or finish_y>8 or finish_y<1:\n",
    "        continue\n",
    "    # 말 밖으로 나가지 않으면 카운트 \n",
    "    count += 1\n",
    "\n",
    "print(count)\n"
   ]
  },
  {
   "attachments": {},
   "cell_type": "markdown",
   "metadata": {},
   "source": [
    "## 답안 풀이(내 풀이와 유사)"
   ]
  },
  {
   "cell_type": "code",
   "execution_count": 38,
   "metadata": {},
   "outputs": [
    {
     "name": "stdout",
     "output_type": "stream",
     "text": [
      "2\n"
     ]
    }
   ],
   "source": [
    "# 좌표 입력받기\n",
    "start = input()\n",
    "# x,y 좌표로 분리하기\n",
    "row = int(start[1])\n",
    "column = ord(start[0])-ord('a')+1\n",
    "\n",
    "# 움직일 수 있는 모든 경우의 수\n",
    "moves = [(-2,-1),(-1,-2),(1,-2),(2,-1),(2,1),(1,2),(-1,2),(-2,1)]\n",
    "\n",
    "count = 0\n",
    "\n",
    "for move in moves:\n",
    "    # 도착하는 모든 경우의 수\n",
    "    next_row = row + move[0]\n",
    "    next_column = column + move[1]\n",
    "    # 말 밖으로 나가지 않으면 카운트\n",
    "    if next_row<=8 and next_row>=1 and next_column<=8 and next_column>=1:\n",
    "        count += 1\n",
    "\n",
    "print(count)\n"
   ]
  },
  {
   "attachments": {},
   "cell_type": "markdown",
   "metadata": {},
   "source": [
    "# 게임 개발"
   ]
  },
  {
   "attachments": {},
   "cell_type": "markdown",
   "metadata": {},
   "source": [
    "## 내 풀이"
   ]
  },
  {
   "cell_type": "code",
   "execution_count": 52,
   "metadata": {},
   "outputs": [
    {
     "name": "stdout",
     "output_type": "stream",
     "text": [
      "3\n"
     ]
    }
   ],
   "source": [
    "# N, M 입력받기\n",
    "n,m = map(int, input().split())\n",
    "# 캐릭터가 있는 칸과 방향 입력받기\n",
    "x,y,d = map(int, input().split())\n",
    "# 맵 정보 입력받기(2차원 배열)\n",
    "map_info = [[] for i in range(n)]\n",
    "for i in range(m): # 가로\n",
    "    map_info[i] = list(map(int, input().split()))\n",
    "\n",
    "count = 0\n",
    "\n",
    "dx = [0,1,0,-1]\n",
    "dy = [-1,0,1,0]\n",
    "\n",
    "while True:\n",
    "    # 반시계 방향으로 90도 회전\n",
    "    d = (d+3)%4\n",
    "    # 반시계 방향으로 갔을 때의 좌표\n",
    "    new_x = x + dx[d]\n",
    "    new_y = y + dy[d]\n",
    "    # 아직 가보지 않은 칸이 존재하면 한 칸 전진\n",
    "    if map_info[new_x][new_y] == 0:\n",
    "        map_info[new_x][new_y] = 1\n",
    "        x = new_x\n",
    "        y = new_y\n",
    "        count += 1\n",
    "    # 네 방향을 모두 갈 수 없는 경우 방향 유지한 채로 한 칸 뒤로 가기\n",
    "    stop = True\n",
    "    for i in range(4):\n",
    "        if map_info[x + dx[i]][y + dy[i]] == 0:\n",
    "            stop = False\n",
    "    if stop == True:\n",
    "        d = (d+1)%4\n",
    "        x = x + dx[(d+2)%4]\n",
    "        y = y + dy[(d+2)%4]\n",
    "        count += 1\n",
    "        # 뒤쪽 방향이 바다인 칸이면 끝\n",
    "        if  map_info[x][y] == 1:\n",
    "            break\n",
    "\n",
    "print(count)\n"
   ]
  },
  {
   "attachments": {},
   "cell_type": "markdown",
   "metadata": {},
   "source": [
    "## 답안 풀이"
   ]
  },
  {
   "cell_type": "code",
   "execution_count": null,
   "metadata": {},
   "outputs": [],
   "source": [
    "# N, M 입력받기\n",
    "n,m = map(int, input().split())\n",
    "# 캐릭터가 있는 칸과 방향 입력받기\n",
    "x,y,d = map(int, input().split())\n",
    "\n",
    "# 맵 정보 입력받기(2차원 배열)\n",
    "map_info = [[0]*m for _ in range(n)]\n",
    "for i in range(m): # 가로\n",
    "    map_info[i] = list(map(int, input().split()))\n",
    "\n",
    "count = 0\n",
    "\n",
    "dx = [0,1,0,-1]\n",
    "dy = [-1,0,1,0]\n",
    "\n",
    "while True:\n",
    "    # 반시계 방향으로 90도 회전\n",
    "    d = (d+3)%4\n",
    "    # 반시계 방향으로 갔을 때의 좌표\n",
    "    new_x = x + dx[d]\n",
    "    new_y = y + dy[d]\n",
    "    # 아직 가보지 않은 칸이 존재하면 한 칸 전진\n",
    "    if map_info[new_x][new_y] == 0:\n",
    "        map_info[new_x][new_y] = 1\n",
    "        x = new_x\n",
    "        y = new_y\n",
    "        count += 1\n",
    "    # 네 방향을 모두 갈 수 없는 경우 방향 유지한 채로 한 칸 뒤로 가기\n",
    "    stop = True\n",
    "    for i in range(4):\n",
    "        if map_info[x + dx[i]][y + dy[i]] == 0:\n",
    "            stop = False\n",
    "    if stop == True:\n",
    "        d = (d+1)%4\n",
    "        x = x + dx[(d+2)%4]\n",
    "        y = y + dy[(d+2)%4]\n",
    "        count += 1\n",
    "        # 뒤쪽 방향이 바다인 칸이면 끝\n",
    "        if  map_info[x][y] == 1:\n",
    "            break\n",
    "\n",
    "print(count)\n"
   ]
  }
 ],
 "metadata": {
  "kernelspec": {
   "display_name": "Python 3",
   "language": "python",
   "name": "python3"
  },
  "language_info": {
   "codemirror_mode": {
    "name": "ipython",
    "version": 3
   },
   "file_extension": ".py",
   "mimetype": "text/x-python",
   "name": "python",
   "nbconvert_exporter": "python",
   "pygments_lexer": "ipython3",
   "version": "3.11.1"
  },
  "orig_nbformat": 4,
  "vscode": {
   "interpreter": {
    "hash": "edefeebe627ecff90a947ef6c6fb3f40b0bac35ede8dd613c10ec993270e0d56"
   }
  }
 },
 "nbformat": 4,
 "nbformat_minor": 2
}
