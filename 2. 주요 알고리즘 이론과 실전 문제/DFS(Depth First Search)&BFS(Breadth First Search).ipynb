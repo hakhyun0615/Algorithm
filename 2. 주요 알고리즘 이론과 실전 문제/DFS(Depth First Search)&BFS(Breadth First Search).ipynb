{
 "cells": [
  {
   "attachments": {},
   "cell_type": "markdown",
   "metadata": {},
   "source": [
    "# 예제"
   ]
  },
  {
   "attachments": {},
   "cell_type": "markdown",
   "metadata": {},
   "source": [
    "## DFS(스택/재귀함수 이용)"
   ]
  },
  {
   "cell_type": "code",
   "execution_count": 4,
   "metadata": {},
   "outputs": [
    {
     "name": "stdout",
     "output_type": "stream",
     "text": [
      "1 2 7 6 8 3 4 5 "
     ]
    }
   ],
   "source": [
    "# DFS 함수 정의\n",
    "def dfs(graph, node, visited):\n",
    "    # 현재 노드를 방문 처리\n",
    "    visited[node] = True\n",
    "    print(node, end=' ')\n",
    "    # 현재 노드와 연결된 다른 노드를 재귀적으로 방문\n",
    "    for i in graph[node]:\n",
    "        if not visited[i]:\n",
    "            dfs(graph, i, visited)\n",
    "\n",
    "# 그래프를 '2차원 리스트'로 표현\n",
    "graph = [\n",
    "    [], # 0 \n",
    "    [2,3,8], # 1\n",
    "    [1,7], # 2\n",
    "    [1,4,5], # 3\n",
    "    [3,5], # 4\n",
    "    [3,4], # 5\n",
    "    [7], # 6\n",
    "    [2,6,8], # 7\n",
    "    [1,7] # 8\n",
    "]\n",
    "\n",
    "# 각 노드의 방문 정보를 리스트로 표현\n",
    "visited = [False] * 9\n",
    "\n",
    "# DFS 함수 호출\n",
    "dfs(graph, 1, visited)"
   ]
  },
  {
   "attachments": {},
   "cell_type": "markdown",
   "metadata": {},
   "source": [
    "## BFS(큐 이용)"
   ]
  },
  {
   "cell_type": "code",
   "execution_count": 5,
   "metadata": {},
   "outputs": [
    {
     "name": "stdout",
     "output_type": "stream",
     "text": [
      "1 2 3 8 7 4 5 6 "
     ]
    }
   ],
   "source": [
    "from collections import deque\n",
    "\n",
    "# BFS 함수 정의\n",
    "def bfs(graph, start, visited):\n",
    "    # 큐 구현을 위해 deque 라이브러리 사용\n",
    "    queue = deque([start])\n",
    "    # 현재 노드를 방문처리\n",
    "    visited[start] = True\n",
    "    # 큐가 빌 때까지 반복\n",
    "    while queue:\n",
    "        # 큐에서 하나의 원소를 뽑아 출력\n",
    "        v = queue.popleft()\n",
    "        print(v, end=' ')\n",
    "        # 해당 원소와 연결된 아직 방문하지 않은 원소들을 큐에 삽입\n",
    "        for i in graph[v]:\n",
    "            if not visited[i]:\n",
    "                queue.append(i)\n",
    "                visited[i] = True\n",
    "\n",
    "# 그래프를 '2차원 리스트'로 표현\n",
    "graph = [\n",
    "    [], # 0 \n",
    "    [2,3,8], # 1\n",
    "    [1,7], # 2\n",
    "    [1,4,5], # 3\n",
    "    [3,5], # 4\n",
    "    [3,4], # 5\n",
    "    [7], # 6\n",
    "    [2,6,8], # 7\n",
    "    [1,7] # 8\n",
    "]\n",
    "\n",
    "# 각 노드의 방문 정보를 리스트로 표현\n",
    "visited = [False] * 9\n",
    "\n",
    "# BFS 함수 호출\n",
    "bfs(graph, 1, visited)"
   ]
  },
  {
   "attachments": {},
   "cell_type": "markdown",
   "metadata": {},
   "source": [
    "# 음료수 얼려 먹기"
   ]
  },
  {
   "attachments": {},
   "cell_type": "markdown",
   "metadata": {},
   "source": [
    "## 내 풀이"
   ]
  },
  {
   "cell_type": "code",
   "execution_count": null,
   "metadata": {},
   "outputs": [],
   "source": [
    "# N,M 입력받기\n",
    "n,m = map(int, input().split())\n",
    "\n",
    "graph = []\n",
    "# 얼음틀 입력받기\n",
    "for i in range(n):\n",
    "    graph.append(list(map(int, input().split())))\n"
   ]
  },
  {
   "attachments": {},
   "cell_type": "markdown",
   "metadata": {},
   "source": [
    "## 답안 풀이"
   ]
  },
  {
   "cell_type": "code",
   "execution_count": 1,
   "metadata": {},
   "outputs": [
    {
     "name": "stdout",
     "output_type": "stream",
     "text": [
      "3\n"
     ]
    }
   ],
   "source": [
    "# N,M 입력받기\n",
    "n,m = map(int, input().split())\n",
    "\n",
    "graph = []\n",
    "# 얼음틀 입력받기\n",
    "for i in range(n):\n",
    "    graph.append(list(map(int, input().split())))\n",
    "\n",
    "# DFS 함수 정의\n",
    "def dfs(x,y):\n",
    "    # 범위를 벗어난 경우에는 즉시 종료\n",
    "    if x<=-1 or x>=n or y<=-1 or y>=m:\n",
    "        return False\n",
    "\n",
    "    # 방문 가능한 노드이면\n",
    "    if graph[x][y] == 0:\n",
    "        # 현재 노드 방문 처리\n",
    "        graph[x][y] = 1\n",
    "        # 상하좌우의 노드도 모두 제귀적으로 호출\n",
    "        dfs(x-1,y)\n",
    "        dfs(x+1,y)\n",
    "        dfs(x,y-1)\n",
    "        dfs(x,y+1)\n",
    "        return True\n",
    "    # 방문 가능하지 않은 노드이면\n",
    "    else:\n",
    "        return False\n",
    "\n",
    "result = 0\n",
    "\n",
    "# 모든 위치에 대해 dfs 실행\n",
    "for i in range(n):\n",
    "    for j in range(m):\n",
    "        if dfs(i,j) == True:\n",
    "            result += 1\n",
    "\n",
    "print(result)"
   ]
  },
  {
   "attachments": {},
   "cell_type": "markdown",
   "metadata": {},
   "source": [
    "# 미로 탈출"
   ]
  },
  {
   "attachments": {},
   "cell_type": "markdown",
   "metadata": {},
   "source": [
    "## 내 풀이"
   ]
  },
  {
   "cell_type": "code",
   "execution_count": null,
   "metadata": {},
   "outputs": [],
   "source": [
    "# N,M 입력받기\n",
    "n,m = map(int, input().split())\n",
    "# graph 입력받기\n",
    "graph = []\n",
    "for i in range(n):\n",
    "    graph.append(list(map(int, input().split())))\n"
   ]
  },
  {
   "attachments": {},
   "cell_type": "markdown",
   "metadata": {},
   "source": [
    "## 답안 풀이"
   ]
  },
  {
   "cell_type": "code",
   "execution_count": 5,
   "metadata": {},
   "outputs": [
    {
     "name": "stdout",
     "output_type": "stream",
     "text": [
      "10\n"
     ]
    }
   ],
   "source": [
    "from collections import deque\n",
    "\n",
    "# N,M 입력받기\n",
    "n,m = map(int, input().split())\n",
    "# graph 입력받기\n",
    "graph = []\n",
    "for i in range(n):\n",
    "    graph.append(list(map(int, input())))\n",
    "\n",
    "# 이동할 네 방향 정의\n",
    "dx = [-1,1,0,0]\n",
    "dy = [0,0,-1,1]\n",
    "\n",
    "# BFS 함수 정의\n",
    "def bfs(x,y):\n",
    "    # 큐를 사용하기 위해 deque 라이브러리 이용\n",
    "    queue = deque()\n",
    "    queue.append((x,y))\n",
    "\n",
    "    # 큐가 빌 때까지 반복\n",
    "    while queue:\n",
    "        x,y = queue.popleft()\n",
    "        # 네 방향으로의 위치 확인\n",
    "        for i in range(4):\n",
    "            nx = x + dx[i]\n",
    "            ny = y + dy[i]\n",
    "            # 범위가 벗어난 경우 무시\n",
    "            if nx<0 or nx>=n or ny<0 or ny>=m:\n",
    "                continue\n",
    "            # 벽인 경우 무시\n",
    "            if graph[nx][ny] == 0:\n",
    "                continue\n",
    "            # 처음 방문하는 경우에만 최단거리 기록\n",
    "            if graph[nx][ny] == 1:\n",
    "                graph[nx][ny] = graph[x][y] + 1\n",
    "                queue.append((nx,ny))\n",
    "\n",
    "    # 도착점의 최단거리 반환\n",
    "    return graph[n-1][m-1]\n",
    "            \n",
    "\n",
    "print(bfs(0,0))"
   ]
  },
  {
   "cell_type": "code",
   "execution_count": null,
   "metadata": {},
   "outputs": [],
   "source": []
  }
 ],
 "metadata": {
  "kernelspec": {
   "display_name": "Python 3",
   "language": "python",
   "name": "python3"
  },
  "language_info": {
   "codemirror_mode": {
    "name": "ipython",
    "version": 3
   },
   "file_extension": ".py",
   "mimetype": "text/x-python",
   "name": "python",
   "nbconvert_exporter": "python",
   "pygments_lexer": "ipython3",
   "version": "3.11.1"
  },
  "orig_nbformat": 4,
  "vscode": {
   "interpreter": {
    "hash": "edefeebe627ecff90a947ef6c6fb3f40b0bac35ede8dd613c10ec993270e0d56"
   }
  }
 },
 "nbformat": 4,
 "nbformat_minor": 2
}
