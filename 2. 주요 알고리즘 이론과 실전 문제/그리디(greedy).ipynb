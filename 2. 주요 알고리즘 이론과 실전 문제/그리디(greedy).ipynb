{
 "cells": [
  {
   "attachments": {},
   "cell_type": "markdown",
   "metadata": {},
   "source": [
    "# 큰 수의 법칙"
   ]
  },
  {
   "attachments": {},
   "cell_type": "markdown",
   "metadata": {},
   "source": [
    "## 내 풀이"
   ]
  },
  {
   "cell_type": "code",
   "execution_count": 22,
   "metadata": {},
   "outputs": [
    {
     "name": "stdout",
     "output_type": "stream",
     "text": [
      "46\n"
     ]
    }
   ],
   "source": [
    "# N, M, K 받기\n",
    "n,m,k = map(int, input().split())\n",
    "# N개의 자연수를 리스트로 받기\n",
    "n_list = list(map(int, input().split()))\n",
    "\n",
    "# 내림차순으로 정렬하기\n",
    "n_list.sort(reverse=True)\n",
    "# 제일 큰 수와 두번째로 큰 수를 저장하기\n",
    "first = n_list[0]\n",
    "second = n_list[1]\n",
    "\n",
    "sum = 0\n",
    "# 제일 큰 수를 K 번, 두번째로 큰 수가 한 번씩 반복적으로 더해지는 패턴을 이용해서 더하기 \n",
    "sum += (k*first+second) * (m//(k+1))\n",
    "sum += first * (m%(k+1))\n",
    "\n",
    "print(sum)"
   ]
  },
  {
   "attachments": {},
   "cell_type": "markdown",
   "metadata": {},
   "source": [
    "## 답안 풀이 1(패턴을 찾지 못해 하나씩 경우의 수를 따지면서 푸는 경우)"
   ]
  },
  {
   "cell_type": "code",
   "execution_count": 24,
   "metadata": {},
   "outputs": [
    {
     "name": "stdout",
     "output_type": "stream",
     "text": [
      "46\n"
     ]
    }
   ],
   "source": [
    "# N, M, K 받기\n",
    "n,m,k = map(int, input().split())\n",
    "# N개의 자연수를 리스트로 받기\n",
    "n_list = list(map(int, input().split()))\n",
    "\n",
    "# 내림차순으로 정렬하기\n",
    "n_list.sort(reverse=True)\n",
    "# 제일 큰 수와 두번째로 큰 수를 저장하기\n",
    "first = n_list[0]\n",
    "second = n_list[1]\n",
    "\n",
    "sum = 0\n",
    "\n",
    "# 조건을 만족할 때까지 반복\n",
    "while(True):\n",
    "    # M >= K이므로 일단 제일 큰 수를 K번 더하기\n",
    "    for i in range(k):\n",
    "        # 두번째 loop부터 M = 0이면 break\n",
    "        if (m == 0):\n",
    "            break\n",
    "        sum += first\n",
    "        m -= 1\n",
    "    # M = K일 수도 있으니 같으면 break\n",
    "    if (m == 0):\n",
    "        break\n",
    "    # M > K이면 두번째로 큰 수 더하기\n",
    "    sum += second\n",
    "    m -= 1\n",
    "\n",
    "print(sum)"
   ]
  },
  {
   "attachments": {},
   "cell_type": "markdown",
   "metadata": {},
   "source": [
    "## 답안 풀이 2(내 풀이와 유사)"
   ]
  },
  {
   "attachments": {},
   "cell_type": "markdown",
   "metadata": {},
   "source": [
    "# 숫자 카드 게임"
   ]
  },
  {
   "attachments": {},
   "cell_type": "markdown",
   "metadata": {},
   "source": [
    "## 내 풀이"
   ]
  },
  {
   "cell_type": "code",
   "execution_count": 31,
   "metadata": {},
   "outputs": [
    {
     "name": "stdout",
     "output_type": "stream",
     "text": [
      "2\n"
     ]
    }
   ],
   "source": [
    "# N, M 숫자 받기\n",
    "n,m = map(int, input().split())\n",
    "\n",
    "result = 0\n",
    "\n",
    "# 한 행씩 확인하기\n",
    "for i in range(n):\n",
    "    n_list = list(map(int, input().split()))\n",
    "    # 각 행에서 제일 작은 수 추출하기\n",
    "    n_list_min = min(n_list)\n",
    "    # 각 행의 제일 작은 수들 중 제일 큰 수를 저장하기\n",
    "    result = max(result, n_list_min)\n",
    "    ## if (n_list_min > result):\n",
    "    ##     result = n_list_min\n",
    "\n",
    "print(result)"
   ]
  },
  {
   "attachments": {},
   "cell_type": "markdown",
   "metadata": {},
   "source": [
    "## 답안 풀이(내 풀이와 유사)"
   ]
  },
  {
   "attachments": {},
   "cell_type": "markdown",
   "metadata": {},
   "source": [
    "# 1이 될 때까지"
   ]
  },
  {
   "attachments": {},
   "cell_type": "markdown",
   "metadata": {},
   "source": [
    "## 내 풀이"
   ]
  },
  {
   "cell_type": "code",
   "execution_count": 3,
   "metadata": {},
   "outputs": [
    {
     "name": "stdout",
     "output_type": "stream",
     "text": [
      "2\n"
     ]
    }
   ],
   "source": [
    "# N, K 입력받기\n",
    "n,k = map(int, input().split())\n",
    "\n",
    "result = 0\n",
    "\n",
    "# N = 1이 될 때까지 반복\n",
    "while (n != 1):\n",
    "    # N이 K로 나누어 떨어지면 먼저 나누기\n",
    "    if (n%k == 0):\n",
    "        n /= k\n",
    "    # 나누어 떨어지지 않으면 -1 하기\n",
    "    else:\n",
    "        n -= 1\n",
    "    # 둘 중 하나의 작업은 했으니 수행 횟수에 +1 하기\n",
    "    result += 1\n",
    "\n",
    "print(result)"
   ]
  },
  {
   "attachments": {},
   "cell_type": "markdown",
   "metadata": {},
   "source": [
    "## 답안 풀이"
   ]
  },
  {
   "cell_type": "code",
   "execution_count": 6,
   "metadata": {},
   "outputs": [
    {
     "name": "stdout",
     "output_type": "stream",
     "text": [
      "2\n"
     ]
    }
   ],
   "source": [
    "# N, K 입력받기\n",
    "n,k = map(int, input().split())\n",
    "\n",
    "result = 0\n",
    "\n",
    "# N >= K이면 N을 K로 나눌 수 있으므로 최대한 K로 나누기\n",
    "while (n >= k):\n",
    "    # 바로 K로 못 나누면 -1씩 빼기\n",
    "    while (n%k != 0):\n",
    "        n -= 1\n",
    "        result += 1\n",
    "    # 나눌 수 있는 상태가 되면 나누기 시작\n",
    "    n /= k\n",
    "    result += 1\n",
    "\n",
    "# N < K이면 N울 K로 더이상 나눌 수 없으므로 N이 1이 될 때까지 -1씩 빼기\n",
    "while (n != 1):\n",
    "    n -= 1\n",
    "    result += 1\n",
    "\n",
    "print(result)"
   ]
  }
 ],
 "metadata": {
  "kernelspec": {
   "display_name": "Python 3",
   "language": "python",
   "name": "python3"
  },
  "language_info": {
   "codemirror_mode": {
    "name": "ipython",
    "version": 3
   },
   "file_extension": ".py",
   "mimetype": "text/x-python",
   "name": "python",
   "nbconvert_exporter": "python",
   "pygments_lexer": "ipython3",
   "version": "3.11.1 (tags/v3.11.1:a7a450f, Dec  6 2022, 19:58:39) [MSC v.1934 64 bit (AMD64)]"
  },
  "orig_nbformat": 4,
  "vscode": {
   "interpreter": {
    "hash": "edefeebe627ecff90a947ef6c6fb3f40b0bac35ede8dd613c10ec993270e0d56"
   }
  }
 },
 "nbformat": 4,
 "nbformat_minor": 2
}
