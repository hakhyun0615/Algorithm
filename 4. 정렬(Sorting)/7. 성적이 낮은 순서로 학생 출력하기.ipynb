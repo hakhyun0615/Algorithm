{
 "cells": [
  {
   "cell_type": "code",
   "execution_count": 5,
   "metadata": {},
   "outputs": [
    {
     "name": "stdout",
     "output_type": "stream",
     "text": [
      "이순신 홍길동 "
     ]
    }
   ],
   "source": [
    "# N 입력받기\n",
    "n = int(input())\n",
    "\n",
    "# 학생 이름과 성적 입력받기\n",
    "array = []\n",
    "for i in range(n):\n",
    "    data = input().split()\n",
    "    array.append((data[0], int(data[1])))\n",
    "\n",
    "array.sort(key=lambda data: data[1]) # 입력: data, 반환: data[1]\n",
    "\n",
    "for data in array:\n",
    "    print(data[0], end=' ')"
   ]
  }
 ],
 "metadata": {
  "kernelspec": {
   "display_name": "Python 3",
   "language": "python",
   "name": "python3"
  },
  "language_info": {
   "codemirror_mode": {
    "name": "ipython",
    "version": 3
   },
   "file_extension": ".py",
   "mimetype": "text/x-python",
   "name": "python",
   "nbconvert_exporter": "python",
   "pygments_lexer": "ipython3",
   "version": "3.11.4"
  },
  "orig_nbformat": 4
 },
 "nbformat": 4,
 "nbformat_minor": 2
}
