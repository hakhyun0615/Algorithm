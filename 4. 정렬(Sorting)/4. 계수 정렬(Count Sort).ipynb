{
 "cells": [
  {
   "cell_type": "markdown",
   "metadata": {},
   "source": [
    "- 조건\n",
    "    - 데이터의 크기 범위가 제한되어 정수 형태로 표현할 수 있을 때만 사용 가능\n",
    "    - 가장 큰 데이터와 가장 작은 데이터의 차이가 너무 크면 사용 불가능\n",
    "- 데이터 하나씩 확인하면서 생성한 리스트에서 해당 인덱스의 값을 1씩 증가\n",
    "- O(N+K)(데이터의 개수: N, 데이터의 최대값: K)(정렬 알고리즘 중에서 가장 빠름)"
   ]
  },
  {
   "cell_type": "code",
   "execution_count": 2,
   "metadata": {},
   "outputs": [
    {
     "name": "stdout",
     "output_type": "stream",
     "text": [
      "0 0 1 1 2 2 3 4 5 5 6 7 8 9 9 "
     ]
    }
   ],
   "source": [
    "array = [7,5,9,0,3,1,6,2,9,1,4,8,0,5,2]\n",
    "\n",
    "# 모든 범위를 포함하는 리스트 선언\n",
    "count = [0] * (max(array)+1)\n",
    "\n",
    "# 각 데이터에 해당하는 인덱스의 값 증가\n",
    "for i in range(len(array)):\n",
    "    count[array[i]] += 1\n",
    "\n",
    "for i in range(len(count)):\n",
    "    for j in range(count[i]):\n",
    "        print(i, end=' ')"
   ]
  }
 ],
 "metadata": {
  "kernelspec": {
   "display_name": "Python 3",
   "language": "python",
   "name": "python3"
  },
  "language_info": {
   "codemirror_mode": {
    "name": "ipython",
    "version": 3
   },
   "file_extension": ".py",
   "mimetype": "text/x-python",
   "name": "python",
   "nbconvert_exporter": "python",
   "pygments_lexer": "ipython3",
   "version": "3.11.4"
  },
  "orig_nbformat": 4
 },
 "nbformat": 4,
 "nbformat_minor": 2
}
