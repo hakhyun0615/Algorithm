{
 "cells": [
  {
   "cell_type": "markdown",
   "metadata": {},
   "source": [
    "- 과정\n",
    "  1. 피벗(기준)을 설정한 뒤, 왼쪽에서부터 피벗보다 큰 데이터를 찾고 오른쪽에서부터 피벗보다 작은 데이터를 찾아 위치를 서로 교환\n",
    "  2. 엇갈린 경우에는 작은 데이터와 피벗의 위치 변경\n",
    "  3. 분할된 왼쪽 리스트와 오른쪽 리스트에서도 같은 과정 반복\n",
    "- O(NlogN)(정렬이 거의 되어있는 경우에는 O(N^2))"
   ]
  },
  {
   "cell_type": "code",
   "execution_count": 1,
   "metadata": {},
   "outputs": [
    {
     "name": "stdout",
     "output_type": "stream",
     "text": [
      "[0, 1, 2, 3, 4, 5, 6, 7, 8, 9]\n"
     ]
    }
   ],
   "source": [
    "array = [5,7,9,0,3,1,6,2,4,8]\n",
    "\n",
    "def quick_sort(array, start, end):\n",
    "    # 원소가 1개인 경우 종료\n",
    "    if start >= end:\n",
    "        return\n",
    "    \n",
    "    # 호어 분할 방식(피봇: 첫 번째 원소)\n",
    "    pivot = start\n",
    "    left = start+1\n",
    "    right = end\n",
    "\n",
    "    while left <= right:\n",
    "        # 피봇보다 큰 데이터 찾기\n",
    "        while left <= end and array[left] <= array[pivot]:\n",
    "            left += 1\n",
    "        # 피봇보다 작은 데이터 찾기\n",
    "        while right > start and array[right] >= array[pivot]:\n",
    "            right -= 1\n",
    "        # 엇갈리면 작은 데이터와 피봇 교체\n",
    "        if left > right:\n",
    "            array[right], array[pivot] = array[pivot], array[right]\n",
    "        # 엇갈리지 않았다면 작은 데이터와 큰 데이터 교체\n",
    "        else:\n",
    "            array[left], array[right] = array[right], array[left]\n",
    "    \n",
    "    # 분할 이후 왼쪽과 오른쪽 부분에서 각각 정렬 수행\n",
    "    quick_sort(array, start, right-1)\n",
    "    quick_sort(array, right+1, end)\n",
    "\n",
    "quick_sort(array, 0, len(array)-1)\n",
    "print(array)"
   ]
  },
  {
   "cell_type": "code",
   "execution_count": 2,
   "metadata": {},
   "outputs": [
    {
     "name": "stdout",
     "output_type": "stream",
     "text": [
      "[0, 1, 2, 3, 4, 5, 6, 7, 8, 9]\n"
     ]
    }
   ],
   "source": [
    "# 직관적이지만 비효율적\n",
    "array = [5,7,9,0,3,1,6,2,4,8]\n",
    "\n",
    "def quick_sort(array):\n",
    "    # 리스트가 하나 이하의 원소만을 담고 있다면 종료\n",
    "    if len(array) <= 1:\n",
    "        return array\n",
    "    \n",
    "    # 피봇은 첫 번째 원소\n",
    "    pivot = array[0]\n",
    "    # 피봇을 제외한 리스트\n",
    "    tail = array[1:]\n",
    "\n",
    "    # 분할된 왼쪽과 오른쪽 부분\n",
    "    left_side = [x for x in tail if x <= pivot]\n",
    "    right_side = [x for x in tail if x > pivot]\n",
    "\n",
    "    # 분할 이후 왼쪽과 오른쪽 부분에서 각각 정렬 수행 후 전체 리스트 반환\n",
    "    return quick_sort(left_side) + [pivot] + quick_sort(right_side)\n",
    "\n",
    "print(quick_sort(array))"
   ]
  }
 ],
 "metadata": {
  "kernelspec": {
   "display_name": "Python 3",
   "language": "python",
   "name": "python3"
  },
  "language_info": {
   "codemirror_mode": {
    "name": "ipython",
    "version": 3
   },
   "file_extension": ".py",
   "mimetype": "text/x-python",
   "name": "python",
   "nbconvert_exporter": "python",
   "pygments_lexer": "ipython3",
   "version": "3.11.4"
  },
  "orig_nbformat": 4
 },
 "nbformat": 4,
 "nbformat_minor": 2
}
