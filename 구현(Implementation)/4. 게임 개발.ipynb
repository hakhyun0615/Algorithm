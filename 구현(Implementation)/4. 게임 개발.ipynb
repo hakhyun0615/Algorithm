{
 "cells": [
  {
   "cell_type": "code",
   "execution_count": 4,
   "metadata": {},
   "outputs": [
    {
     "name": "stdout",
     "output_type": "stream",
     "text": [
      "1 1 0\n",
      "1 1 3\n",
      "1 1 2\n",
      "1 2 1\n",
      "1 2 0\n",
      "1 2 3\n",
      "2 2 2\n",
      "2 2 1\n",
      "2 2 0\n",
      "2 2 3\n",
      "2 2 2\n",
      "1 2 1\n",
      "1 2 0\n",
      "1 2 3\n",
      "1 2 2\n",
      "3\n"
     ]
    }
   ],
   "source": [
    "# N,M 입력받음\n",
    "r,c = map(int, input().split())\n",
    "x,y,d = map(int, input().split())\n",
    "\n",
    "print(x,y,d)\n",
    "\n",
    "# 가본 칸(안 가본 경우: 0, 가본 경우: 1)\n",
    "w = [[0]*4 for _ in range(r)]\n",
    "w[x][y] = 1\n",
    "\n",
    "# 맵(육지: 0, 바다: 1)\n",
    "m = [] # 함수와 변수명이 중복되지 않게 주의!\n",
    "for i in range(r):\n",
    "    m.append(list(map(int, input().split())))\n",
    "\n",
    "# 움직이는 방법\n",
    "dx = [-1, 0, 1, 0]\n",
    "dy = [0, 1, 0, -1]\n",
    "\n",
    "# 방문한 칸의 개수\n",
    "t = 0\n",
    "\n",
    "# 제자리에서 돈 횟수\n",
    "s = 0\n",
    "\n",
    "while True:\n",
    "    nx = x + dx[((d-1)+4)%4]\n",
    "    ny = y + dy[((d-1)+4)%4]\n",
    "\n",
    "    if w[nx][ny] == 0 and m[nx][ny] == 0:\n",
    "        d = ((d-1)+4)%4\n",
    "        x = nx\n",
    "        y = ny\n",
    "        w[x][y] = 1\n",
    "        t += 1\n",
    "        s = 0\n",
    "    else:\n",
    "        d = ((d-1)+4)%4\n",
    "        s += 1\n",
    "\n",
    "    print(x,y,d)\n",
    "\n",
    "    if s == 4:\n",
    "        nx = x - dx[d]\n",
    "        ny = y - dy[d]\n",
    "        if m[nx][ny] == 0:\n",
    "            x = nx\n",
    "            y = ny\n",
    "            t += 1\n",
    "            s = 0\n",
    "        elif m[nx][ny] == 1:\n",
    "            break\n",
    "\n",
    "print(t)"
   ]
  },
  {
   "cell_type": "code",
   "execution_count": null,
   "metadata": {},
   "outputs": [],
   "source": []
  },
  {
   "cell_type": "code",
   "execution_count": null,
   "metadata": {},
   "outputs": [],
   "source": []
  },
  {
   "cell_type": "code",
   "execution_count": null,
   "metadata": {},
   "outputs": [],
   "source": []
  }
 ],
 "metadata": {
  "kernelspec": {
   "display_name": "Python 3",
   "language": "python",
   "name": "python3"
  },
  "language_info": {
   "codemirror_mode": {
    "name": "ipython",
    "version": 3
   },
   "file_extension": ".py",
   "mimetype": "text/x-python",
   "name": "python",
   "nbconvert_exporter": "python",
   "pygments_lexer": "ipython3",
   "version": "3.11.4"
  },
  "orig_nbformat": 4
 },
 "nbformat": 4,
 "nbformat_minor": 2
}
