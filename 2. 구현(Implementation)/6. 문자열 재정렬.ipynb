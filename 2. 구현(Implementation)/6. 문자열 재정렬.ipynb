{
 "cells": [
  {
   "cell_type": "code",
   "execution_count": null,
   "metadata": {},
   "outputs": [],
   "source": [
    "s = input()\n",
    "\n",
    "number = [str(n) for n in range(1, 10)]\n",
    "sum = 0\n",
    "result = []\n",
    "for i in s:\n",
    "    if i in number:\n",
    "        sum += int(i)\n",
    "    else:\n",
    "        result.append(i)\n",
    "\n",
    "result = sorted(result)\n",
    "\n",
    "if sum > 0:\n",
    "    result.append(str(sum))\n",
    "    \n",
    "print(\"\".join(result))"
   ]
  }
 ],
 "metadata": {
  "language_info": {
   "name": "python"
  }
 },
 "nbformat": 4,
 "nbformat_minor": 2
}
