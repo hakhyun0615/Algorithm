{
 "cells": [
  {
   "cell_type": "code",
   "execution_count": null,
   "metadata": {},
   "outputs": [],
   "source": [
    "def rotate_a_matrix_by_90_degree(a):\n",
    "    n = len(a) \n",
    "    m = len(a[0])\n",
    "    result = [[0] * n for _ in range(m)] \n",
    "    for i in range(n):\n",
    "        for j in range(m):\n",
    "            result[j][n - i - 1] = a[i][j]\n",
    "    return result\n",
    "\n",
    "def check(new_lock):\n",
    "    for i in range(len(new_lock)//3, (len(new_lock)//3)*2):\n",
    "        for j in range(len(new_lock)//3, (len(new_lock)//3)*2):\n",
    "            if new_lock[i][j] != 1:\n",
    "                return False\n",
    "    return True\n",
    "\n",
    "def solution(key, lock):\n",
    "    n = len(lock)    \n",
    "    m = len(key)\n",
    "\n",
    "    new_lock = [[0]*(n*3) for _ in range(n*3)]\n",
    "\n",
    "    for i in range(n):\n",
    "        for j in range(n):\n",
    "            new_lock[i+n][j+n] = lock[i][j]\n",
    "\n",
    "    for _ in range(4):\n",
    "        key = rotate_a_matrix_by_90_degree(key)\n",
    "\n",
    "        for i in range(n*2):\n",
    "            for j in range(n*2):\n",
    "                for k in range(m):\n",
    "                    for l in range(m):\n",
    "                        new_lock[i+k][j+l] += key[k][l]\n",
    "\n",
    "                if (check(new_lock) == True):\n",
    "                    return True\n",
    "\n",
    "                for k in range(m):\n",
    "                    for l in range(m):\n",
    "                        new_lock[i+k][j+l] -= key[k][l]\n",
    "\n",
    "    return False"
   ]
  }
 ],
 "metadata": {
  "language_info": {
   "name": "python"
  }
 },
 "nbformat": 4,
 "nbformat_minor": 2
}
