{
 "cells": [
  {
   "cell_type": "code",
   "execution_count": null,
   "metadata": {},
   "outputs": [],
   "source": [
    "def solve(s):\n",
    "    leng = len(s)\n",
    "    min_leng = 10000\n",
    "    \n",
    "    for unit in range(1, leng // 2 + 2):\n",
    "        pre = s[:unit]\n",
    "        unit_cnt = [1] \n",
    "        unit_leng = leng % unit \n",
    "        \n",
    "        for i in range(unit, leng // unit * unit, unit):\n",
    "            cur = s[i : i + unit]\n",
    "            if pre == cur:\n",
    "                unit_cnt[-1] += 1\n",
    "            else:\n",
    "                unit_cnt.append(1)\n",
    "                pre = cur\n",
    "        \n",
    "        for u in unit_cnt:\n",
    "            if u > 1:\n",
    "                unit_leng += len(str(u)) \n",
    "            unit_leng += unit\n",
    "            \n",
    "        min_leng = min(unit_leng, min_leng)\n",
    "    return min_leng"
   ]
  }
 ],
 "metadata": {
  "language_info": {
   "name": "python"
  }
 },
 "nbformat": 4,
 "nbformat_minor": 2
}
