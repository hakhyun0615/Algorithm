{
 "cells": [
  {
   "cell_type": "code",
   "execution_count": 7,
   "metadata": {},
   "outputs": [
    {
     "name": "stdout",
     "output_type": "stream",
     "text": [
      "3 4\n"
     ]
    }
   ],
   "source": [
    "# N 입력받기\n",
    "n = int(input())\n",
    "\n",
    "# 이동 계획서\n",
    "move_list = input().split()\n",
    "\n",
    "# 처음 위치\n",
    "x, y = 1, 1\n",
    "\n",
    "# move_types에 따른 이동 방향\n",
    "move_types = ['L', 'R', 'U', 'D']\n",
    "dx = [0, 0, -1, 1]\n",
    "dy = [-1, 1, 0, 0]\n",
    "\n",
    "for move in move_list:\n",
    "    for i in range(len(move_types)):\n",
    "        if move_types[i] == move:\n",
    "            next_x = x + dx[i]\n",
    "            next_y = y + dy[i]\n",
    "            break\n",
    "\n",
    "    if next_x < 1 or next_x > n or next_y < 1 or next_y > n:\n",
    "        continue\n",
    "    \n",
    "    x = next_x\n",
    "    y = next_y\n",
    "\n",
    "print(x, y)"
   ]
  },
  {
   "cell_type": "code",
   "execution_count": null,
   "metadata": {},
   "outputs": [],
   "source": [
    "# 내 풀이\n",
    "\n",
    "# N 입력받기\n",
    "n = int(input())\n",
    "\n",
    "# 이동 계획서\n",
    "move_list = input().split()\n",
    "\n",
    "# 처음 위치\n",
    "x, y = 0, 0\n",
    "\n",
    "for move in move_list:\n",
    "    if move == 'L':\n",
    "        next_y = y - 1\n",
    "        if 0 <= next_y <= 4:\n",
    "            y = next_y\n",
    "    elif move == 'R':\n",
    "        next_y = y + 1\n",
    "        if 0 <= next_y <= 4:\n",
    "            y = next_y\n",
    "    elif move == 'U':\n",
    "        next_x = x - 1\n",
    "        if 0 <= next_x <= 4:\n",
    "            x = next_x\n",
    "    elif move == 'D':\n",
    "        next_x = x + 1\n",
    "        if 0 <= next_x <= 4:\n",
    "            x = next_x\n",
    "\n",
    "print(x+1, y+1)"
   ]
  }
 ],
 "metadata": {
  "kernelspec": {
   "display_name": "Python 3",
   "language": "python",
   "name": "python3"
  },
  "language_info": {
   "codemirror_mode": {
    "name": "ipython",
    "version": 3
   },
   "file_extension": ".py",
   "mimetype": "text/x-python",
   "name": "python",
   "nbconvert_exporter": "python",
   "pygments_lexer": "ipython3",
   "version": "3.11.4"
  },
  "orig_nbformat": 4
 },
 "nbformat": 4,
 "nbformat_minor": 2
}
