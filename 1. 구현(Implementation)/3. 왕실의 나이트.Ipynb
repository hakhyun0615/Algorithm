{
 "cells": [
  {
   "cell_type": "code",
   "execution_count": 9,
   "metadata": {},
   "outputs": [
    {
     "name": "stdout",
     "output_type": "stream",
     "text": [
      "2\n"
     ]
    }
   ],
   "source": [
    "# 현재 위치 입력받기\n",
    "position = input()\n",
    "\n",
    "x = int(position[1])\n",
    "y = ord(position[0]) - ord('a') + 1\n",
    "\n",
    "# 가능한 총 경우의 수\n",
    "total = 0\n",
    "\n",
    "steps = [(-2,-1), (-1,-2), (1,-2), (2,-1), (2,1), (1,2), (-1,2), (-2,1)]\n",
    "\n",
    "for step in steps:\n",
    "    nx = x + step[0]\n",
    "    ny = y + step[1]\n",
    "\n",
    "    if nx < 1 or nx > 8 or ny < 1 or ny > 8:\n",
    "        continue\n",
    "    \n",
    "    total += 1\n",
    "    \n",
    "print(total)"
   ]
  },
  {
   "cell_type": "code",
   "execution_count": 8,
   "metadata": {},
   "outputs": [
    {
     "name": "stdout",
     "output_type": "stream",
     "text": [
      "2\n"
     ]
    }
   ],
   "source": [
    "# 내 풀이\n",
    "\n",
    "# 현재 위치 입력받기\n",
    "position = input()\n",
    "\n",
    "x = int(position[1])\n",
    "y = ord(position[0]) - ord('a') + 1\n",
    "\n",
    "# 가능한 총 경우의 수\n",
    "total = 0\n",
    "\n",
    "dx = [-1, -1, 1, 1, -2, -2, 2, 2]\n",
    "dy = [-2, 2, -2, 2, -1, 1, -1, 1]\n",
    "\n",
    "for i in range(len(dx)):\n",
    "    nx = x + dx[i]\n",
    "    ny = y + dy[i]\n",
    "\n",
    "    if nx < 1 or nx > 8 or ny < 1 or ny > 8:\n",
    "        continue\n",
    "    \n",
    "    total += 1\n",
    "    \n",
    "print(total)"
   ]
  }
 ],
 "metadata": {
  "kernelspec": {
   "display_name": "Python 3",
   "language": "python",
   "name": "python3"
  },
  "language_info": {
   "codemirror_mode": {
    "name": "ipython",
    "version": 3
   },
   "file_extension": ".py",
   "mimetype": "text/x-python",
   "name": "python",
   "nbconvert_exporter": "python",
   "pygments_lexer": "ipython3",
   "version": "3.11.4"
  },
  "orig_nbformat": 4
 },
 "nbformat": 4,
 "nbformat_minor": 2
}
