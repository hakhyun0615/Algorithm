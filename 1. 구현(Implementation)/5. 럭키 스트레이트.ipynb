{
 "cells": [
  {
   "cell_type": "code",
   "execution_count": null,
   "metadata": {},
   "outputs": [],
   "source": [
    "n = input()\n",
    "\n",
    "number = len(n) // 2\n",
    "\n",
    "left_value = 0\n",
    "for i in range(number) :\n",
    "  left_value += int(n[i])\n",
    "\n",
    "right_value = 0\n",
    "for i in range(number, len(n)) :\n",
    "  right_value += int(n[i])\n",
    "\n",
    "if left_value == right_value :\n",
    "  print('LUCKY')\n",
    "else :\n",
    "  print('READY')"
   ]
  }
 ],
 "metadata": {
  "language_info": {
   "name": "python"
  }
 },
 "nbformat": 4,
 "nbformat_minor": 2
}
