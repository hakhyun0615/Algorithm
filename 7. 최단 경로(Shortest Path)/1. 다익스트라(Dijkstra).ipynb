{
 "cells": [
  {
   "cell_type": "markdown",
   "metadata": {},
   "source": [
    "- 조건\n",
    "    - 현실과 같이 음의 간선이 없을 때만 가능\n",
    "- 과정\n",
    "    1. 출발 노드 설정\n",
    "    2. 최단 거리 테이블 초기화(출발 노드 거리: 0, 나머지 노드 거리: INF)\n",
    "    3. 방문하지 않은 노드 중에서 최단 거리가 가장 짧은 노드 선택(그리디 알고리즘)\n",
    "    4. 해당 노드를 거쳐 다른 인접한 노드로 가는 거리를 계산해서 최단 거리 테이블 갱신(한 번 선택된 노드의 최단 거리는 고정/ 한 단계당 하나의 노드에 대한 최단 거리를 확실히 찾는 것)\n",
    "    5. 3,4번 과정 반복(알고리즘을 수행한 뒤에는 테이블에 각 노드까지의 최단 거리가 저장)\n",
    "- O(V^2)(V: 노드 개수)"
   ]
  },
  {
   "cell_type": "code",
   "execution_count": 1,
   "metadata": {},
   "outputs": [
    {
     "ename": "KeyboardInterrupt",
     "evalue": "",
     "output_type": "error",
     "traceback": [
      "\u001b[0;31m---------------------------------------------------------------------------\u001b[0m",
      "\u001b[0;31mKeyboardInterrupt\u001b[0m                         Traceback (most recent call last)",
      "Cell \u001b[0;32mIn[1], line 6\u001b[0m\n\u001b[1;32m      3\u001b[0m INF \u001b[39m=\u001b[39m \u001b[39mint\u001b[39m(\u001b[39m1e9\u001b[39m) \u001b[39m# 무한을 의미하는 값으로 10억 설정\u001b[39;00m\n\u001b[1;32m      5\u001b[0m \u001b[39m# 노드의 개수, 간선의 개수 입력받기\u001b[39;00m\n\u001b[0;32m----> 6\u001b[0m n,m\u001b[39m=\u001b[39m \u001b[39mmap\u001b[39m(\u001b[39mint\u001b[39m(\u001b[39minput\u001b[39;49m()\u001b[39m.\u001b[39msplit()))\n\u001b[1;32m      7\u001b[0m \u001b[39m# 시작 노드 번호를 입력받기\u001b[39;00m\n\u001b[1;32m      8\u001b[0m start \u001b[39m=\u001b[39m \u001b[39mint\u001b[39m(\u001b[39minput\u001b[39m())\n",
      "\u001b[0;31mKeyboardInterrupt\u001b[0m: "
     ]
    }
   ],
   "source": [
    "import sys\n",
    "input = sys.stdin.readline\n",
    "INF = int(1e9) # 무한을 의미하는 값으로 10억 설정\n",
    "\n",
    "# 노드의 개수, 간선의 개수 입력받기\n",
    "n,m= map(int(input().split()))\n",
    "# 시작 노드 번호를 입력받기\n",
    "start = int(input())\n",
    "# 각 노드에 연결되어 있는 노드에 대한 정보를 담는 리스트를 만들기\n",
    "graph = [[] for i in range(n+1)]\n",
    "# 방문한 적이 있는지 체크하는 리스트 만들기\n",
    "visited = [False] * (n+1)\n",
    "# 최단 거리 테이블을 모두 무한으로 초기화\n",
    "distance = [INF] * (n+1)\n",
    "\n",
    "# 모든 간선 정보 입력받기\n",
    "for _ in range(m):\n",
    "    a,b,c = map(int, input().split()) # a 노드에서 b 노드로 가는 비용이 c\n",
    "    graph[a].append((b,c))\n",
    "\n",
    "# 방문하지 않은 노드 중에서 최단 거리가 가장 짧은 노드의 번호 반환\n",
    "def get_smallest_node():\n",
    "    min_value = INF\n",
    "    index = 0\n",
    "    for i in range(1, n+1):\n",
    "        if distance[i] < min_value and not visited[i]:\n",
    "            min_value = distance[i]\n",
    "            index = i\n",
    "    return index\n",
    "\n",
    "# 다익스트라 알고리즘 수행\n",
    "def dijkstra(start):\n",
    "    distance[start] = 0\n",
    "    visited[start] = True\n",
    "    for j in graph[start]:\n",
    "        distance[j[0]] = j[1]\n",
    "\n",
    "    for i in range(n-1):\n",
    "        now = get_smallest_node()\n",
    "        visited[now] = True\n",
    "        for j in graph[now]:\n",
    "            cost = distance[now]\n",
    "            if cost < distance[j[0]]:\n",
    "                distance[j[0]] = cost\n",
    "\n",
    "dijkstra(start)\n",
    "\n",
    "for i in range(1, n+1):\n",
    "    if distance[i] == INF:\n",
    "        print('INFINITY')\n",
    "    else:\n",
    "        print(distance[i])"
   ]
  }
 ],
 "metadata": {
  "kernelspec": {
   "display_name": "Python 3",
   "language": "python",
   "name": "python3"
  },
  "language_info": {
   "codemirror_mode": {
    "name": "ipython",
    "version": 3
   },
   "file_extension": ".py",
   "mimetype": "text/x-python",
   "name": "python",
   "nbconvert_exporter": "python",
   "pygments_lexer": "ipython3",
   "version": "3.11.4"
  },
  "orig_nbformat": 4
 },
 "nbformat": 4,
 "nbformat_minor": 2
}
