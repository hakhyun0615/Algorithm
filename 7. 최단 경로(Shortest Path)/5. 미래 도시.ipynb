{
 "cells": [
  {
   "cell_type": "code",
   "execution_count": 8,
   "metadata": {},
   "outputs": [
    {
     "name": "stdout",
     "output_type": "stream",
     "text": [
      "-1\n"
     ]
    }
   ],
   "source": [
    "# n의 범위가 매우 작으므로 구현이 간단한 플로이드 워셜 이용\n",
    "\n",
    "n,m = map(int, input().split())\n",
    "\n",
    "INF = int(1e9)\n",
    "graph = [[INF] * (n+1) for _ in range(n+1)]\n",
    "\n",
    "for a in range(1, n+1):\n",
    "    for b in range(1, n+1):\n",
    "        if a == b:\n",
    "            graph[a][b] = 0\n",
    "\n",
    "for _ in range(m):\n",
    "    a,b = map(int, input().split())\n",
    "    graph[a][b] = 1\n",
    "    graph[b][a] = 1\n",
    "\n",
    "for k in range(1, n+1):\n",
    "    for a in range(1, n+1):\n",
    "        for b in range(1, n+1):\n",
    "            graph[a][b] = min(graph[a][b], graph[a][k] + graph[k][b])\n",
    "\n",
    "x,k = map(int, input().split())\n",
    "\n",
    "start_to_x = graph[1][k] + graph[k][x]\n",
    "\n",
    "if start_to_x >= INF:\n",
    "    print(-1)\n",
    "else:\n",
    "    print(start_to_x)"
   ]
  },
  {
   "cell_type": "code",
   "execution_count": 5,
   "metadata": {},
   "outputs": [
    {
     "name": "stdout",
     "output_type": "stream",
     "text": [
      "-1\n"
     ]
    }
   ],
   "source": [
    "import heapq\n",
    "\n",
    "n,m = map(int, input().split())\n",
    "\n",
    "graph =  [[] for _ in range(n+1)]\n",
    "for i in range(m):\n",
    "    a,b = map(int, input().split())\n",
    "    graph[a].append((b,1))\n",
    "    graph[b].append((a,1))\n",
    "\n",
    "x,k = map(int, input().split())\n",
    "\n",
    "INF = int(1e9)\n",
    "\n",
    "def dijkstra(start):\n",
    "    distance = [INF] * (n+1)\n",
    "\n",
    "    q = []\n",
    "\n",
    "    heapq.heappush(q, (0,start))\n",
    "    distance[start] = 0\n",
    "\n",
    "    while q:\n",
    "        dist, now = heapq.heappop(q)\n",
    "        if distance[now] < dist:\n",
    "            continue\n",
    "        for i in graph[now]:\n",
    "            cost = dist + i[1]\n",
    "            if cost < distance[i[0]]:\n",
    "                distance[i[0]] = cost\n",
    "                heapq.heappush(q, (cost, i[0]))\n",
    "    return distance\n",
    "\n",
    "distance = dijkstra(1)\n",
    "start_to_k = distance[k]\n",
    "\n",
    "distance = dijkstra(k)\n",
    "k_to_x = distance[x]\n",
    "\n",
    "start_to_x = start_to_k + k_to_x\n",
    "\n",
    "if start_to_x >= INF:\n",
    "    print(-1)\n",
    "else:\n",
    "    print(start_to_x)"
   ]
  }
 ],
 "metadata": {
  "kernelspec": {
   "display_name": "Python 3",
   "language": "python",
   "name": "python3"
  },
  "language_info": {
   "codemirror_mode": {
    "name": "ipython",
    "version": 3
   },
   "file_extension": ".py",
   "mimetype": "text/x-python",
   "name": "python",
   "nbconvert_exporter": "python",
   "pygments_lexer": "ipython3",
   "version": "3.11.4"
  },
  "orig_nbformat": 4
 },
 "nbformat": 4,
 "nbformat_minor": 2
}
