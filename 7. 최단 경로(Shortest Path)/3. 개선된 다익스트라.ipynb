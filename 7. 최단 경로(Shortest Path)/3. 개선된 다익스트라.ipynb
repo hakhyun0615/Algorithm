{
 "cells": [
  {
   "cell_type": "markdown",
   "metadata": {},
   "source": [
    "암기!"
   ]
  },
  {
   "cell_type": "markdown",
   "metadata": {},
   "source": [
    "- 다익스트라 알고리즘에서 방문하지 않은 노드 중에서 최단 거리가 가장 짧은 노드를 선택하기 위해 최소 힙 사용\n",
    "- O(ElogV)(E: 간선 개수, V: 노드 개수)"
   ]
  },
  {
   "cell_type": "code",
   "execution_count": 2,
   "metadata": {},
   "outputs": [
    {
     "name": "stdout",
     "output_type": "stream",
     "text": [
      "0\n",
      "2\n",
      "3\n",
      "1\n",
      "2\n",
      "4\n"
     ]
    }
   ],
   "source": [
    "import heapq\n",
    "import sys\n",
    "# input = sys.stdin.readline\n",
    "INF = int(1e9) # 무한을 의미하는 값으로 10억 설정\n",
    "\n",
    "# 노드의 개수, 간선의 개수 입력받기\n",
    "n,m= map(int, input().split())\n",
    "# 시작 노드 번호를 입력받기\n",
    "start = int(input())\n",
    "# 각 노드에 연결되어 있는 노드에 대한 정보를 담는 리스트를 만들기\n",
    "graph = [[] for i in range(n+1)]\n",
    "# 최단 거리 테이블을 모두 무한으로 초기화\n",
    "distance = [INF] * (n+1)\n",
    "\n",
    "# 모든 간선 정보 입력받기\n",
    "for _ in range(m):\n",
    "    a,b,c = map(int, input().split()) # a 노드에서 b 노드로 가는 비용이 c\n",
    "    graph[a].append((b,c))\n",
    "\n",
    "# 다익스트라 알고리즘 수행\n",
    "def dijkstra(start):\n",
    "    q = []\n",
    "\n",
    "    heapq.heappush(q, (0,start)) # 비용, 노드\n",
    "    distance[start] = 0\n",
    "    \n",
    "    while q:\n",
    "        dist, now = heapq.heappop(q) # 힙에서 비용, 노드 추출\n",
    "        if distance[now] < dist:\n",
    "            continue\n",
    "        # 현재 노드와 연결된 다른 노드들 확인\n",
    "        for i in graph[now]:\n",
    "            # 비용 확인\n",
    "            cost = dist + i[1]\n",
    "            # 비용이 기존의 비용보다 작다면\n",
    "            if cost < distance[i[0]]:\n",
    "                distance[i[0]] = cost # 갱신\n",
    "                heapq.heappush(q, (cost, i[0])) # 힙에 삽입\n",
    "\n",
    "dijkstra(start)\n",
    "\n",
    "for i in range(1, n+1):\n",
    "    if distance[i] == INF:\n",
    "        print('INFINITY')\n",
    "    else:\n",
    "        print(distance[i])"
   ]
  },
  {
   "cell_type": "code",
   "execution_count": null,
   "metadata": {},
   "outputs": [],
   "source": []
  }
 ],
 "metadata": {
  "kernelspec": {
   "display_name": "Python 3",
   "language": "python",
   "name": "python3"
  },
  "language_info": {
   "codemirror_mode": {
    "name": "ipython",
    "version": 3
   },
   "file_extension": ".py",
   "mimetype": "text/x-python",
   "name": "python",
   "nbconvert_exporter": "python",
   "pygments_lexer": "ipython3",
   "version": "3.11.4"
  },
  "orig_nbformat": 4
 },
 "nbformat": 4,
 "nbformat_minor": 2
}
