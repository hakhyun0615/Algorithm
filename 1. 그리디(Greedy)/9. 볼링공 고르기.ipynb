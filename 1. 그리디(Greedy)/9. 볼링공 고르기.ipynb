{
 "cells": [
  {
   "cell_type": "code",
   "execution_count": 7,
   "metadata": {},
   "outputs": [
    {
     "name": "stdout",
     "output_type": "stream",
     "text": [
      "8\n"
     ]
    }
   ],
   "source": [
    "# 볼링공 갯수(n),공의 최대 무게(m) 입력 받기\n",
    "n,m = map(int, input().split())\n",
    "# 볼링공 무게 리스트 입력 받기\n",
    "l = list(map(int, input().split()))\n",
    "\n",
    "# 볼링공 갯수 리스트 초기화(1부터 10까지의 무게를 담을 수 있도록)\n",
    "c = [0] * 11\n",
    "# 볼링공 갯수 리스트 채우기\n",
    "for e in l:\n",
    "    c[e] += 1\n",
    "\n",
    "# 볼링공 고르는 경우의 수\n",
    "r = 0\n",
    "\n",
    "# 1부터 공의 최대 무게(m)까지 \n",
    "for i in range(1, m+1):\n",
    "    # B가 고를 수 있는 나머지 공의 갯수(A가 고르는 무게를 제외한 공의 갯수)\n",
    "    n -= c[i]\n",
    "    # A가 고를 수 있는 공의 갯수와 B가 고를 수 있는 공의 갯수 곱셈\n",
    "    r += c[i] * n\n",
    "\n",
    "print(r)"
   ]
  },
  {
   "cell_type": "code",
   "execution_count": 5,
   "metadata": {},
   "outputs": [
    {
     "name": "stdout",
     "output_type": "stream",
     "text": [
      "25\n"
     ]
    }
   ],
   "source": [
    "# 이중 for문이여서 비추...\n",
    "\n",
    "# 볼링공 갯수(n),공의 최대 무게(m) 입력 받기\n",
    "n,m = map(int, input().split())\n",
    "# 볼링공 리스트 입력 받기\n",
    "l = list(map(int, input().split()))\n",
    "# 오름차순 정렬\n",
    "l.sort()\n",
    "\n",
    "# 볼링공 고르는 경우의 수\n",
    "r = 0\n",
    "\n",
    "for i in range(len(l)):\n",
    "    for j in range(i+1, len(l)):\n",
    "        if l[j] != l[i]:\n",
    "            r += 1\n",
    "\n",
    "print(r)"
   ]
  }
 ],
 "metadata": {
  "kernelspec": {
   "display_name": "Python 3",
   "language": "python",
   "name": "python3"
  },
  "language_info": {
   "codemirror_mode": {
    "name": "ipython",
    "version": 3
   },
   "file_extension": ".py",
   "mimetype": "text/x-python",
   "name": "python",
   "nbconvert_exporter": "python",
   "pygments_lexer": "ipython3",
   "version": "3.11.4"
  }
 },
 "nbformat": 4,
 "nbformat_minor": 2
}
