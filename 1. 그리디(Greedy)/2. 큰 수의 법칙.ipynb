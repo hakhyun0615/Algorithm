{
 "cells": [
  {
   "cell_type": "code",
   "execution_count": 7,
   "metadata": {},
   "outputs": [
    {
     "name": "stdout",
     "output_type": "stream",
     "text": [
      "total_time: 0.00012373924255371094\n",
      "46\n"
     ]
    }
   ],
   "source": [
    "import time\n",
    "\n",
    "# N,M,K 입력 받기\n",
    "n,m,k = map(int, input().split())\n",
    "\n",
    "# N개의 자연수 입력 받은 후 리스트에 저장\n",
    "raw_list = list(map(int, input().split()))\n",
    "\n",
    "# 리스트 정렬 후 가장 큰, 두번째로 큰 값 저장\n",
    "sorted_list = sorted(raw_list, reverse=True)\n",
    "biggest_value = sorted_list[0]\n",
    "second_biggest_value = sorted_list[1]\n",
    "\n",
    "# 더해진 합\n",
    "total_sum = 0\n",
    "\n",
    "start_time = time.time()\n",
    "\n",
    "while True:\n",
    "    for i in range(k):\n",
    "        if m == 0:\n",
    "            break\n",
    "        total_sum += biggest_value\n",
    "        m -= 1\n",
    "    if m == 0:\n",
    "        break\n",
    "    total_sum += second_biggest_value\n",
    "    m -= 1\n",
    "\n",
    "end_time = time.time()\n",
    "print('total_time:', end_time - start_time)\n",
    "\n",
    "print(total_sum)\n"
   ]
  },
  {
   "cell_type": "code",
   "execution_count": 10,
   "metadata": {},
   "outputs": [
    {
     "name": "stdout",
     "output_type": "stream",
     "text": [
      "total_time: 0.00010585784912109375\n",
      "46\n"
     ]
    }
   ],
   "source": [
    "import time\n",
    "\n",
    "# N,M,K 입력 받기\n",
    "n,m,k = map(int, input().split())\n",
    "\n",
    "# N개의 자연수 입력 받은 후 리스트에 저장\n",
    "raw_list = list(map(int, input().split()))\n",
    "\n",
    "# 리스트 정렬 후 가장 큰, 두번째로 큰 값 저장\n",
    "sorted_list = sorted(raw_list, reverse=True)\n",
    "biggest_value = sorted_list[0]\n",
    "second_biggest_value = sorted_list[1]\n",
    "\n",
    "start_time = time.time()\n",
    "\n",
    "biggest_value_count = (m // (k+1)) * k + m % (k+1)\n",
    "total_sum = 0\n",
    "total_sum += biggest_value_count * biggest_value\n",
    "total_sum += (m - biggest_value_count) * second_biggest_value\n",
    "\n",
    "end_time = time.time()\n",
    "print('total_time:', end_time - start_time)\n",
    "\n",
    "print(total_sum)\n"
   ]
  },
  {
   "cell_type": "code",
   "execution_count": 8,
   "metadata": {},
   "outputs": [
    {
     "name": "stdout",
     "output_type": "stream",
     "text": [
      "total_time: 8.916854858398438e-05\n",
      "46\n"
     ]
    }
   ],
   "source": [
    "# 내 풀이\n",
    "\n",
    "import time\n",
    "\n",
    "# N,M,K 입력 받기\n",
    "n,m,k = map(int, input().split())\n",
    "\n",
    "# N개의 자연수 입력 받은 후 리스트에 저장\n",
    "raw_list = list(map(int, input().split()))\n",
    "\n",
    "# 리스트 정렬 후 가장 큰, 두번째로 큰 값 저장\n",
    "sorted_list = sorted(raw_list, reverse=True)\n",
    "biggest_value = sorted_list[0]\n",
    "second_biggest_value = sorted_list[1]\n",
    "\n",
    "# 더해진 합\n",
    "total_sum = 0\n",
    "\n",
    "# 임시 k\n",
    "temp_k = k\n",
    "\n",
    "start_time = time.time()\n",
    "\n",
    "while m != 0:\n",
    "    if temp_k == 0:\n",
    "        total_sum += second_biggest_value\n",
    "        temp_k = k\n",
    "    else:\n",
    "        total_sum += biggest_value\n",
    "        temp_k -= 1\n",
    "    m -= 1\n",
    "\n",
    "end_time = time.time()\n",
    "print('total_time:', end_time - start_time)\n",
    "\n",
    "print(total_sum)\n"
   ]
  },
  {
   "cell_type": "code",
   "execution_count": null,
   "metadata": {},
   "outputs": [],
   "source": [
    "# 내 풀이\n",
    "\n",
    "import time\n",
    "\n",
    "# N,M,K 입력 받기\n",
    "n,m,k = map(int, input().split())\n",
    "\n",
    "# N개의 자연수 입력 받은 후 리스트에 저장\n",
    "raw_list = list(map(int, input().split()))\n",
    "\n",
    "# 리스트 정렬 후 가장 큰, 두번째로 큰 값 저장\n",
    "sorted_list = sorted(raw_list, reverse=True)\n",
    "biggest_value = sorted_list[0]\n",
    "second_biggest_value = sorted_list[1]\n",
    "\n",
    "start_time = time.time()\n",
    "\n",
    "iteration = m // (k+1)\n",
    "remain = m % (k+1)\n",
    "sequence_sum = k * biggest_value + second_biggest_value\n",
    "total_sum = iteration * sequence_sum + remain * biggest_value\n",
    "\n",
    "end_time = time.time()\n",
    "print('total_time:', end_time - start_time)\n",
    "\n",
    "print(total_sum)\n"
   ]
  }
 ],
 "metadata": {
  "kernelspec": {
   "display_name": "Python 3",
   "language": "python",
   "name": "python3"
  },
  "language_info": {
   "codemirror_mode": {
    "name": "ipython",
    "version": 3
   },
   "file_extension": ".py",
   "mimetype": "text/x-python",
   "name": "python",
   "nbconvert_exporter": "python",
   "pygments_lexer": "ipython3",
   "version": "3.11.4"
  },
  "orig_nbformat": 4
 },
 "nbformat": 4,
 "nbformat_minor": 2
}
