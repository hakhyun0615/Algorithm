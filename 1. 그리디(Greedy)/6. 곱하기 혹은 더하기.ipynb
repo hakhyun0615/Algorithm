{
 "cells": [
  {
   "cell_type": "code",
   "execution_count": 1,
   "metadata": {},
   "outputs": [
    {
     "name": "stdout",
     "output_type": "stream",
     "text": [
      "576\n"
     ]
    }
   ],
   "source": [
    "# 문자열 받기\n",
    "s = input()\n",
    "# 정수 리스트로 변환\n",
    "l = [int(c) for c in s]\n",
    "\n",
    "# 결과 리스트의 첫번째 원소로 초기화\n",
    "r = l[0]\n",
    "# 리스트를 두번째부터 마지막까지 돌릴 때\n",
    "for i in range(1, len(l)):\n",
    "    # 두 수 중에 1 이하인 수가 하나라도 있으면 + 수행\n",
    "    if r <= 1 or l[i] <= 1:\n",
    "        r += l[i]\n",
    "    # 아니면 x 수행\n",
    "    else:\n",
    "        r *= l[i]\n",
    "\n",
    "print(r)"
   ]
  }
 ],
 "metadata": {
  "kernelspec": {
   "display_name": "Python 3",
   "language": "python",
   "name": "python3"
  },
  "language_info": {
   "codemirror_mode": {
    "name": "ipython",
    "version": 3
   },
   "file_extension": ".py",
   "mimetype": "text/x-python",
   "name": "python",
   "nbconvert_exporter": "python",
   "pygments_lexer": "ipython3",
   "version": "3.11.4"
  }
 },
 "nbformat": 4,
 "nbformat_minor": 2
}
