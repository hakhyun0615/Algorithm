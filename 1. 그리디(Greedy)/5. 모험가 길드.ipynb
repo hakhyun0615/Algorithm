{
 "cells": [
  {
   "cell_type": "code",
   "execution_count": 3,
   "metadata": {},
   "outputs": [
    {
     "name": "stdout",
     "output_type": "stream",
     "text": [
      "5\n",
      "[2, 3, 1, 2, 2]\n",
      "2\n"
     ]
    }
   ],
   "source": [
    "# 모험가 수\n",
    "n = int(input(()))\n",
    "# 공포도 리스트\n",
    "l = list(map(int, input().split()))\n",
    "# 오름차순 정렬\n",
    "l.sort()\n",
    "\n",
    "# 그룹 수\n",
    "g = 0\n",
    "# 현재 멤버 수\n",
    "m = 0\n",
    "\n",
    "for f in l:\n",
    "    # 현 멤버 수 1 추가\n",
    "    m += 1\n",
    "    # 공포도 <= 현 멤버 수라면\n",
    "    if f <= m: \n",
    "        # 그룹 수 1 추가\n",
    "        g += 1\n",
    "        # 현 멤버 수 0 초기화\n",
    "        m = 0\n",
    "\n",
    "print(g)"
   ]
  }
 ],
 "metadata": {
  "kernelspec": {
   "display_name": "Python 3",
   "language": "python",
   "name": "python3"
  },
  "language_info": {
   "codemirror_mode": {
    "name": "ipython",
    "version": 3
   },
   "file_extension": ".py",
   "mimetype": "text/x-python",
   "name": "python",
   "nbconvert_exporter": "python",
   "pygments_lexer": "ipython3",
   "version": "3.11.4"
  }
 },
 "nbformat": 4,
 "nbformat_minor": 2
}
