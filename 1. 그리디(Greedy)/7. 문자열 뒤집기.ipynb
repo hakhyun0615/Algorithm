{
 "cells": [
  {
   "cell_type": "code",
   "execution_count": 18,
   "metadata": {},
   "outputs": [
    {
     "name": "stdout",
     "output_type": "stream",
     "text": [
      "1\n"
     ]
    }
   ],
   "source": [
    "# 문자열 입력 받기\n",
    "s = input()\n",
    "\n",
    "# 0 group 갯수\n",
    "c_0 = 0\n",
    "# 1 group 갯수\n",
    "c_1 = 0\n",
    "\n",
    "# 문자열의 첫번재 원소가 0이면\n",
    "if s[0] == '0':\n",
    "    # 0 group 갯수 1 추가\n",
    "    c_0 += 1\n",
    "# 문자열의 첫번재 원소가 1이면\n",
    "elif s[0] == '1':\n",
    "    # 1 group 갯수 1 추가\n",
    "    c_1 += 1\n",
    "\n",
    "# 문자열의 두번째 원소부터 확인\n",
    "for i in range(len(s)-1):\n",
    "    # 만약 문자가 뒤집어진다면\n",
    "    if s[i] != s[i+1]:\n",
    "        # 뒤집어진 문자가 0이라면\n",
    "        if s[i+1] == '0':\n",
    "            # 0 group 갯수 1 추가\n",
    "            c_0 += 1\n",
    "        # 뒤집어진 문자가 1이라면\n",
    "        elif s[i+1] == '1':\n",
    "            # 1 group 갯수 1 추가\n",
    "            c_1 += 1\n",
    "\n",
    "# 변경하는 최소 횟수를 구해야되므로 1 group 갯수와 0 group 갯수 중 작은 것이 결과값\n",
    "r = min(c_0, c_1)\n",
    "\n",
    "print(r)"
   ]
  },
  {
   "cell_type": "code",
   "execution_count": 14,
   "metadata": {},
   "outputs": [
    {
     "name": "stdout",
     "output_type": "stream",
     "text": [
      "1\n"
     ]
    }
   ],
   "source": [
    "from itertools import groupby\n",
    "\n",
    "# 문자열 입력 받기\n",
    "s = input()\n",
    "\n",
    "# key로 문자열 groupby\n",
    "ks = [key for key, group in groupby(s)]\n",
    "# group으로 문자열 groupby\n",
    "# gs = [''.join(group) for key, group in groupby(s)]\n",
    "\n",
    "# key 중 '0' 등장 횟수\n",
    "c_0 = ks.count('0')\n",
    "# key 중 '1' 등장 횟수\n",
    "c_1 = ks.count('1')\n",
    "\n",
    "# '0'과 '1' 중 최소 횟수\n",
    "r = min(c_0, c_1)\n",
    "\n",
    "print(r)"
   ]
  }
 ],
 "metadata": {
  "kernelspec": {
   "display_name": "Python 3",
   "language": "python",
   "name": "python3"
  },
  "language_info": {
   "codemirror_mode": {
    "name": "ipython",
    "version": 3
   },
   "file_extension": ".py",
   "mimetype": "text/x-python",
   "name": "python",
   "nbconvert_exporter": "python",
   "pygments_lexer": "ipython3",
   "version": "3.11.4"
  }
 },
 "nbformat": 4,
 "nbformat_minor": 2
}
