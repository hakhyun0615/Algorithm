{
 "cells": [
  {
   "cell_type": "markdown",
   "metadata": {},
   "source": [
    "- 진입차수(Indegree): 특정한 노드로 들어오는 간선의 개수\n",
    "- 진출차수(Outdegree): 특정한 노드에서 나가는 간선의 개수\n",
    "- 위상 정렬: 사이클이 없는 방향 그래프(DAG)의 모든 노드를 방향성에 거스르지 않도록 순서대로 나열\n",
    "    - 유의\n",
    "        - 한 단계에서 큐에 새롭게 들어가는 원소가 2개 이상인 경우 여러가지 답 존재\n",
    "        - 모든 원소를 방문하기 전에 큐가 빈다면 사이클이 존재하는 것\n",
    "        - 큐가 아닌 DFS를 통해서도 위상 정렬 수행 가능\n",
    "    - 과정\n",
    "        - 진입차수가 0인 모든 노드를 큐에 넣기\n",
    "        - 큐가 빌 때까지 반복\n",
    "            - 큐에서 원소를 꺼내 해당 노드에서 나가는 간선을 그래프에서 제거\n",
    "            - 새롭게 진입차수가 0이 된 노드를 큐에 넣기\n",
    "        - 위상 정렬 결과는 큐에 삽입된 전체 노드 순서    "
   ]
  },
  {
   "cell_type": "code",
   "execution_count": null,
   "metadata": {},
   "outputs": [],
   "source": [
    "from collections import deque\n",
    "\n",
    "v,e = map(int,input().split())\n",
    "indegree = [0]*(v+1)\n",
    "graph = "
   ]
  }
 ],
 "metadata": {
  "language_info": {
   "name": "python"
  },
  "orig_nbformat": 4
 },
 "nbformat": 4,
 "nbformat_minor": 2
}
