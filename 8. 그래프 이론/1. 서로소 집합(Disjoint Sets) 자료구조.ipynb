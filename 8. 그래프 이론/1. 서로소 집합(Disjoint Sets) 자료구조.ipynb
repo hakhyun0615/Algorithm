{
 "cells": [
  {
   "cell_type": "markdown",
   "metadata": {},
   "source": [
    "- 서로소 집합: 공통 원소가 없는 두 집합\n",
    "- 서로소 집합 알고리즘\n",
    "    - 합집합(Union)\n",
    "        - 유의\n",
    "            - 부모 테이블을 가지고 있어야 함\n",
    "            - 루트 노드를 계산하려면 부모 테이블을 거슬러 올라가야 함\n",
    "        - 과정\n",
    "            - 각각 루트 노드 찾기\n",
    "            - 비교 후 큰 루트 노드의 부모를 작은 루트 노드로 바꾸기\n",
    "    - 찾기(Find)\n",
    "- 서로소 집합을 활용한 사이클 판별\n",
    "    - 무방향 그래프에서 모든 간선에 대해 하나씩 확인하며 두 노드의 루트 노드 확인\n",
    "        - 루트 노드가 서로 다르다면 합집합 연산 수행\n",
    "        - 루트 노드가 서로 같다면 사이클 발생 "
   ]
  },
  {
   "cell_type": "code",
   "execution_count": 1,
   "metadata": {},
   "outputs": [
    {
     "ename": "ValueError",
     "evalue": "not enough values to unpack (expected 2, got 0)",
     "output_type": "error",
     "traceback": [
      "\u001b[0;31m---------------------------------------------------------------------------\u001b[0m",
      "\u001b[0;31mValueError\u001b[0m                                Traceback (most recent call last)",
      "Cell \u001b[0;32mIn[1], line 19\u001b[0m\n\u001b[1;32m     16\u001b[0m         parent[a] \u001b[39m=\u001b[39m b\n\u001b[1;32m     18\u001b[0m \u001b[39m# 노드의 개수(v), 간선의 개수(e)(union 연산 개수)\u001b[39;00m\n\u001b[0;32m---> 19\u001b[0m v,e \u001b[39m=\u001b[39m \u001b[39mmap\u001b[39m(\u001b[39mint\u001b[39m, \u001b[39minput\u001b[39m()\u001b[39m.\u001b[39msplit())\n\u001b[1;32m     20\u001b[0m \u001b[39m# 부모 테이블(1~v 포함)\u001b[39;00m\n\u001b[1;32m     21\u001b[0m parent \u001b[39m=\u001b[39m [\u001b[39m0\u001b[39m] \u001b[39m*\u001b[39m (v\u001b[39m+\u001b[39m\u001b[39m1\u001b[39m)\n",
      "\u001b[0;31mValueError\u001b[0m: not enough values to unpack (expected 2, got 0)"
     ]
    }
   ],
   "source": [
    "# 서로소 집합 알고리즘\n",
    "\n",
    "# 루트 노드 찾기(부모 리스트에서 x의 루트 찾기)\n",
    "def find_root(parent,x):\n",
    "    if parent[x] != x:\n",
    "        parent[x] = find_root(parent,parent[x])\n",
    "    return parent[x]\n",
    "\n",
    "# union 연산\n",
    "def union_parent(parent,a,b):\n",
    "    a = find_root(parent,a)\n",
    "    b = find_root(parent,b)\n",
    "    if a < b:\n",
    "        parent[b] = a\n",
    "    else:\n",
    "        parent[a] = b\n",
    "\n",
    "# 노드의 개수(v), 간선의 개수(e)(union 연산 개수)\n",
    "v,e = map(int, input().split())\n",
    "# 부모 테이블(1~v 포함)\n",
    "parent = [0] * (v+1)\n",
    "\n",
    "# 부모 테이블에서 부모를 자신으로 초기화\n",
    "for i in range(1,v+1):\n",
    "    parent[i] = i\n",
    "\n",
    "# union 연산 하나씩 진행\n",
    "for i in range(e):\n",
    "    a,b = map(int,input().split())\n",
    "    union_parent(parent,a,b)\n",
    "\n",
    "print('각 원소가 속한 집합/루트 노드: ', end=' ')\n",
    "for i in range(1,v+1):\n",
    "    print(find_root(parent,i), end=' ')\n",
    "\n",
    "print()\n",
    "\n",
    "print('부모 테이블:',end=' ')\n",
    "for i in range(1,v+1):\n",
    "    print(parent[i], end=' ')"
   ]
  },
  {
   "cell_type": "code",
   "execution_count": 2,
   "metadata": {},
   "outputs": [
    {
     "name": "stdout",
     "output_type": "stream",
     "text": [
      "사이클이 발생하였습니다.\n"
     ]
    }
   ],
   "source": [
    "# 서로소 집합을 활용한 사이클 판별\n",
    "\n",
    "# 루트 노드 찾기\n",
    "def find_parent(parent,x):\n",
    "    if parent[x] != x:\n",
    "        parent[x] = find_parent(parent,parent[x])\n",
    "    return parent[x]\n",
    "\n",
    "# union 연산\n",
    "def union_parent(parent,a,b):\n",
    "    a = find_parent(parent,a)\n",
    "    b = find_parent(parent,b)\n",
    "    if a < b:\n",
    "        parent[b] = a\n",
    "    else:\n",
    "        parent[a] = b\n",
    "\n",
    "# 노드의 개수(v), 간선의 개수(e)(union 연산 개수)\n",
    "v,e = map(int, input().split())\n",
    "# 부모 테이블(1~v 포함)\n",
    "parent = [0] * (v+1)\n",
    "\n",
    "# 부모 테이블에서 부모를 자신으로 초기화\n",
    "for i in range(1,v+1):\n",
    "    parent[i] = i\n",
    "\n",
    "# 사이클 발생 여부\n",
    "cycle = False\n",
    "\n",
    "for i in range(e):\n",
    "    a,b = map(int,input().split())    \n",
    "    # 루트 노드가 서로 같다면 사이클 발생\n",
    "    if find_parent(parent,a) == find_parent(parent,b):\n",
    "        cycle = True\n",
    "        break\n",
    "    # 루트 노드가 서로 다르다면 합집합 수행\n",
    "    else:\n",
    "        union_parent(parent,a,b)\n",
    "\n",
    "if cycle:\n",
    "    print('사이클이 발생하였습니다.')\n",
    "else:\n",
    "    print('사이클이 발생하지 않았습니다.')"
   ]
  }
 ],
 "metadata": {
  "kernelspec": {
   "display_name": "Python 3",
   "language": "python",
   "name": "python3"
  },
  "language_info": {
   "codemirror_mode": {
    "name": "ipython",
    "version": 3
   },
   "file_extension": ".py",
   "mimetype": "text/x-python",
   "name": "python",
   "nbconvert_exporter": "python",
   "pygments_lexer": "ipython3",
   "version": "3.11.4"
  },
  "orig_nbformat": 4
 },
 "nbformat": 4,
 "nbformat_minor": 2
}
