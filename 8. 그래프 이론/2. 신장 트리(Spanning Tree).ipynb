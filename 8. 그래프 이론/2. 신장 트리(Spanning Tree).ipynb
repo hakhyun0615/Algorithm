{
 "cells": [
  {
   "cell_type": "markdown",
   "metadata": {},
   "source": [
    "- 신장 트리: 그래프에서 모든 노드들이 서로 연결되어있지만 사이클이 존재하지 않는 부분 그래프\n",
    "- 최소 신장 트리 알고리즘: 최소한의 비용으로 구성되는 신장 트리를 찾는 알고리즘\n",
    "    - 크루스칼 알고리즘\n",
    "        - 그리디 알고리즘\n",
    "        - 과정\n",
    "            1. 간선 데이터를 입력 받고 비용에 따라 오름차순 정렬\n",
    "            2. 간선을 하나씩 확인하며 현재의 간선이 사이클을 발생시키는지 확인\n",
    "                - 사이클이 발생하지 않는 경우, 합집합 수행 후 최소 신장 트리에 포함\n",
    "                - 사이클이 발생하는 경우, 최소 신장 트리에 포함 x\n",
    "            3. 모든 간선에 대해 2번의 과정 반복 \n",
    "        - O(ElogE)(E:간선의 개수)"
   ]
  },
  {
   "cell_type": "code",
   "execution_count": 2,
   "metadata": {},
   "outputs": [
    {
     "name": "stdout",
     "output_type": "stream",
     "text": [
      "75\n"
     ]
    }
   ],
   "source": [
    "# 루트 노드 찾기(부모 리스트에서 x의 루트 찾기)\n",
    "def find_root(parent,x):\n",
    "    if parent[x] != x:\n",
    "        parent[x] = find_root(parent,parent[x])\n",
    "    return parent[x]\n",
    "\n",
    "# union 연산\n",
    "def union_parent(parent,a,b):\n",
    "    a = find_root(parent,a)\n",
    "    b = find_root(parent,b)\n",
    "    if a < b:\n",
    "        parent[b] = a\n",
    "    else:\n",
    "        parent[a] = b\n",
    "\n",
    "# 노드의 개수(v), 간선의 개수(e)(union 연산 개수)\n",
    "v,e = map(int, input().split())\n",
    "# 부모 테이블(1~v 포함)\n",
    "parent = [0] * (v+1)\n",
    "\n",
    "# 부모 테이블에서 부모를 자신으로 초기화\n",
    "for i in range(1,v+1):\n",
    "    parent[i] = i\n",
    "\n",
    "# 모든 간선을 담을 리스트 \n",
    "edges = []\n",
    "# 최종 비용을 담을 변수\n",
    "result = 0\n",
    "\n",
    "# 모든 간선에 대한 정보 입력 받기\n",
    "for _ in range(e):\n",
    "    a,b,cost = map(int,input().split())\n",
    "    # 첫번째 원소를 비용으로 설정해 비용순으로 정렬\n",
    "    edges.append((cost,a,b))\n",
    "\n",
    "# 간선을 비용순으로 정렬\n",
    "edges.sort()\n",
    "\n",
    "# 모든 간선 확인\n",
    "for edge in edges:\n",
    "    cost,a,b = edge\n",
    "    # 사이클이 발생하지 않는 경우\n",
    "    if find_root(parent,a) != find_root(parent,b):\n",
    "        # 합집합 수행\n",
    "        union_parent(parent,a,b)\n",
    "        # 최소 신장 트리에 포함\n",
    "        result += cost\n",
    "\n",
    "print(cost)"
   ]
  },
  {
   "cell_type": "code",
   "execution_count": null,
   "metadata": {},
   "outputs": [],
   "source": []
  }
 ],
 "metadata": {
  "kernelspec": {
   "display_name": "Python 3",
   "language": "python",
   "name": "python3"
  },
  "language_info": {
   "codemirror_mode": {
    "name": "ipython",
    "version": 3
   },
   "file_extension": ".py",
   "mimetype": "text/x-python",
   "name": "python",
   "nbconvert_exporter": "python",
   "pygments_lexer": "ipython3",
   "version": "3.11.4"
  },
  "orig_nbformat": 4
 },
 "nbformat": 4,
 "nbformat_minor": 2
}
