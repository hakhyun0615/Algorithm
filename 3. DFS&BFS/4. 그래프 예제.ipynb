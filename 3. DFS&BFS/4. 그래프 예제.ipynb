{
 "cells": [
  {
   "cell_type": "markdown",
   "metadata": {},
   "source": [
    "- 노드: 동그라미\n",
    "- 간선: 선\n",
    "- 그래프 표현 방식\n",
    "    - 인접 행렬(Adjacency Matrix): 2차원 배열로 그래프의 연결 관계를 표현\n",
    "        - 모든 관계를 저장하므로 메모리 낭비\n",
    "        - 특정 두 노드가 연결되어 있는지에 대한 정보를 얻는 속도가 빠름\n",
    "    - 인접 리스트(Adjacency List): 리스트로 그래프의 연결 관계를 표현\n",
    "        - 연결된 관계만 저장하므로 메모리 효율\n",
    "        - 특정 두 노드가 연결되어 있는지에 대한 정보를 얻는 속도가 느림(연결된 데이터를 모두 확인해야)"
   ]
  },
  {
   "cell_type": "code",
   "execution_count": 1,
   "metadata": {},
   "outputs": [
    {
     "name": "stdout",
     "output_type": "stream",
     "text": [
      "[[0, 7, 5], [7, 0, 999999999], [5, 999999999, 0]]\n"
     ]
    }
   ],
   "source": [
    "# 인접 행렬\n",
    "INF = 999999999\n",
    "\n",
    "# 2차원 리스트로 노드간 거리 저장(연결되지 않은 노드끼리는 무한의 거리)\n",
    "graph = [\n",
    "    [0, 7, 5],\n",
    "    [7, 0, INF],\n",
    "    [5, INF, 0]\n",
    "]\n",
    "\n",
    "print(graph)"
   ]
  },
  {
   "cell_type": "code",
   "execution_count": 2,
   "metadata": {},
   "outputs": [
    {
     "name": "stdout",
     "output_type": "stream",
     "text": [
      "[[(1, 7), (2, 5)], [(0, 7)], [(0, 5)]]\n"
     ]
    }
   ],
   "source": [
    "# 인접 리스트\n",
    "graph = [[] for _ in range(3)] # 행이 3개인 2차원 리스트\n",
    "\n",
    "# 노드 0에 연결된 노드 정보 저장(노드, 거리)\n",
    "graph[0].append((1,7))\n",
    "graph[0].append((2,5))\n",
    "\n",
    "# 노드 1에 연결된 노드 정보 저장(노드, 거리)\n",
    "graph[1].append((0,7))\n",
    "\n",
    "# 노드 2에 연결된 노드 정보 저장(노드, 거리)\n",
    "graph[2].append((0,5))\n",
    "\n",
    "print(graph)"
   ]
  }
 ],
 "metadata": {
  "kernelspec": {
   "display_name": "Python 3",
   "language": "python",
   "name": "python3"
  },
  "language_info": {
   "codemirror_mode": {
    "name": "ipython",
    "version": 3
   },
   "file_extension": ".py",
   "mimetype": "text/x-python",
   "name": "python",
   "nbconvert_exporter": "python",
   "pygments_lexer": "ipython3",
   "version": "3.11.4"
  },
  "orig_nbformat": 4
 },
 "nbformat": 4,
 "nbformat_minor": 2
}
