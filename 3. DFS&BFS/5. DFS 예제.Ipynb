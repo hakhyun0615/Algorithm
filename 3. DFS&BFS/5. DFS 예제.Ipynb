{
 "cells": [
  {
   "cell_type": "markdown",
   "metadata": {},
   "source": [
    "- 깊이 우선 탐색\n",
    "- 그래프에서 특정한 경로로 최대한 깊숙이 들어가서 노드를 방문 후 다시 돌아가 다른 경로로 탐색\n",
    "- 재귀함수 이용(스택 자료구조에 기초)\n",
    "    1. 탐색 시작 노드를 스택에 삽입하고 방문 처리한다\n",
    "    2. 방문하지 않은 인접 노드가 없으면 스택에서 최상단 노드를 꺼낸다\n",
    "    3. 2번의 과정을 더 이상 수행할 수 없을 때까지 반복한다\n",
    "- O(N)"
   ]
  },
  {
   "cell_type": "code",
   "execution_count": 5,
   "metadata": {},
   "outputs": [
    {
     "name": "stdout",
     "output_type": "stream",
     "text": [
      "1 2 7 6 8 3 4 5 "
     ]
    }
   ],
   "source": [
    "def dfs(graph, v, visited):\n",
    "    # 현재 노드 방문 처리\n",
    "    visited[v] = True\n",
    "    # 탐색 확정\n",
    "    print(v, end = ' ')\n",
    "\n",
    "    # 탐색 확정된 노드와 연결된  \n",
    "    for i in graph[v]:\n",
    "        # 아직 방문하지 않은 노드들을\n",
    "        if not visited[i]:\n",
    "            # 재귀적으로 방문 처리\n",
    "            dfs(graph, i, visited)\n",
    "\n",
    "# 인접 리스트\n",
    "graph = [\n",
    "    [],        # 0\n",
    "    [2,3,8],   # 1\n",
    "    [1,7],     # 2\n",
    "    [1,4,5],   # 3\n",
    "    [3,5],     # 4\n",
    "    [3,4],     # 5\n",
    "    [7],       # 6\n",
    "    [2,6,8],   # 7\n",
    "    [1,7]      # 8\n",
    "] \n",
    "\n",
    "visited = [False] * 9\n",
    "\n",
    "dfs(graph, 1, visited)"
   ]
  }
 ],
 "metadata": {
  "kernelspec": {
   "display_name": "Python 3",
   "language": "python",
   "name": "python3"
  },
  "language_info": {
   "codemirror_mode": {
    "name": "ipython",
    "version": 3
   },
   "file_extension": ".py",
   "mimetype": "text/x-python",
   "name": "python",
   "nbconvert_exporter": "python",
   "pygments_lexer": "ipython3",
   "version": "3.11.4"
  },
  "orig_nbformat": 4
 },
 "nbformat": 4,
 "nbformat_minor": 2
}
