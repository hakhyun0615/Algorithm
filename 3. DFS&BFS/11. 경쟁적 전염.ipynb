{
 "cells": [
  {
   "cell_type": "code",
   "execution_count": null,
   "metadata": {},
   "outputs": [],
   "source": [
    "n, k = map(int, input().split())\n",
    "maps = [list(map(int, input().split())) for _ in range(n)] \n",
    "time = [[-1]*n for _ in range(n)]  \n",
    "s, x, y = map(int, input().split())\n",
    "\n",
    "dx = [1,-1,0,0]\n",
    "dy = [0,0,1,-1]\n",
    "from collections import deque\n",
    "def bfs():\n",
    "    q = []\n",
    "    for i in range(n):\n",
    "        for j in range(n):\n",
    "            if maps[i][j] !=0 :   \n",
    "                time[i][j] = 0    \n",
    "                q.append((maps[i][j] , i, j))\n",
    "    q.sort()  \n",
    "    q = deque(q)\n",
    "                \n",
    "    while q :\n",
    "        virus, x, y = q.popleft()\n",
    "        \n",
    "        for i in range(4):\n",
    "            nx = x + dx[i]\n",
    "            ny = y + dy[i]\n",
    "            \n",
    "            if 0<= nx < n and 0<=ny<n and maps[nx][ny] == 0: \n",
    "                maps[nx][ny] = virus\n",
    "                time[nx][ny] = time[x][y] + 1 \n",
    "                q.append((maps[nx][ny] , nx, ny))\n",
    "                \n",
    "bfs()\n",
    "if time[x-1][y-1] > s :  \n",
    "    print(0)\n",
    "else :                   \n",
    "    print(maps[x-1][y-1])  "
   ]
  }
 ],
 "metadata": {
  "language_info": {
   "name": "python"
  }
 },
 "nbformat": 4,
 "nbformat_minor": 2
}
