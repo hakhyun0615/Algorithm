{
 "cells": [
  {
   "cell_type": "markdown",
   "metadata": {},
   "source": [
    "내 bfs 풀이"
   ]
  },
  {
   "cell_type": "code",
   "execution_count": 21,
   "metadata": {},
   "outputs": [
    {
     "ename": "ValueError",
     "evalue": "not enough values to unpack (expected 2, got 0)",
     "output_type": "error",
     "traceback": [
      "\u001b[0;31m---------------------------------------------------------------------------\u001b[0m",
      "\u001b[0;31mValueError\u001b[0m                                Traceback (most recent call last)",
      "\u001b[1;32m/Users/kimhakhyun/Desktop/Git/algorithm/Algorithm/3. DFS&BFS/11. 경쟁적 전염.ipynb 셀 2\u001b[0m line \u001b[0;36m<cell line: 0>\u001b[0;34m()\u001b[0m\n\u001b[1;32m      <a href='vscode-notebook-cell:/Users/kimhakhyun/Desktop/Git/algorithm/Algorithm/3.%20DFS%26BFS/11.%20%EA%B2%BD%EC%9F%81%EC%A0%81%20%EC%A0%84%EC%97%BC.ipynb#W1sZmlsZQ%3D%3D?line=0'>1</a>\u001b[0m \u001b[39mfrom\u001b[39;00m \u001b[39mcollections\u001b[39;00m \u001b[39mimport\u001b[39;00m deque\n\u001b[1;32m      <a href='vscode-notebook-cell:/Users/kimhakhyun/Desktop/Git/algorithm/Algorithm/3.%20DFS%26BFS/11.%20%EA%B2%BD%EC%9F%81%EC%A0%81%20%EC%A0%84%EC%97%BC.ipynb#W1sZmlsZQ%3D%3D?line=2'>3</a>\u001b[0m \u001b[39m# n(시험관의 가로,세로 길이), k(바이러스 종류 갯수) 입력 받기\u001b[39;00m\n\u001b[0;32m----> <a href='vscode-notebook-cell:/Users/kimhakhyun/Desktop/Git/algorithm/Algorithm/3.%20DFS%26BFS/11.%20%EA%B2%BD%EC%9F%81%EC%A0%81%20%EC%A0%84%EC%97%BC.ipynb#W1sZmlsZQ%3D%3D?line=3'>4</a>\u001b[0m n, k \u001b[39m=\u001b[39m \u001b[39mmap\u001b[39m(\u001b[39mint\u001b[39m, \u001b[39minput\u001b[39m()\u001b[39m.\u001b[39msplit())\n\u001b[1;32m      <a href='vscode-notebook-cell:/Users/kimhakhyun/Desktop/Git/algorithm/Algorithm/3.%20DFS%26BFS/11.%20%EA%B2%BD%EC%9F%81%EC%A0%81%20%EC%A0%84%EC%97%BC.ipynb#W1sZmlsZQ%3D%3D?line=5'>6</a>\u001b[0m \u001b[39m# 그래프(2차원 리스트) 입력 받기\u001b[39;00m\n\u001b[1;32m      <a href='vscode-notebook-cell:/Users/kimhakhyun/Desktop/Git/algorithm/Algorithm/3.%20DFS%26BFS/11.%20%EA%B2%BD%EC%9F%81%EC%A0%81%20%EC%A0%84%EC%97%BC.ipynb#W1sZmlsZQ%3D%3D?line=6'>7</a>\u001b[0m graph \u001b[39m=\u001b[39m []\n",
      "\u001b[0;31mValueError\u001b[0m: not enough values to unpack (expected 2, got 0)"
     ]
    }
   ],
   "source": [
    "from collections import deque\n",
    "\n",
    "# n(시험관의 가로,세로 길이), k(바이러스 종류 갯수) 입력 받기\n",
    "n, k = map(int, input().split())\n",
    "\n",
    "# 그래프(2차원 리스트) 입력 받기\n",
    "graph = []\n",
    "for _ in range(n):\n",
    "    graph.append(list(map(int, input().split())))\n",
    "\n",
    "# s(~초 뒤), x, y 입력 받기\n",
    "s, x, y = map(int, input().split())\n",
    "x, y = x-1, y-1\n",
    "\n",
    "\n",
    "# 상하좌우 방향 정의\n",
    "dr = [0, 0, -1, 1]\n",
    "dc = [-1, 1, 0, 0]\n",
    "\n",
    "# 큐 선언\n",
    "queue = deque()\n",
    "\n",
    "# 현재 상태 큐에 채우기\n",
    "for v in range(1, k+1):\n",
    "    for r in range(n):\n",
    "        for c in range(n):\n",
    "            if graph[r][c] == v:\n",
    "                queue.append((r, c, v, 0))\n",
    "\n",
    "# bfs 실행\n",
    "while queue:\n",
    "    r, c, v, t = queue.popleft()\n",
    "    \n",
    "    if t == s:\n",
    "        break\n",
    "\n",
    "    for i in range(4):\n",
    "        nr = r + dr[i]\n",
    "        nc = c + dc[i]\n",
    "\n",
    "        if (0 <= nr < n) and (0 <= nc < n):\n",
    "            if graph[nr][nc] == 0:\n",
    "                graph[nr][nc] = v\n",
    "                queue.append((nr, nc, v, t+1))\n",
    "\n",
    "print(graph[x][y])"
   ]
  }
 ],
 "metadata": {
  "kernelspec": {
   "display_name": "Python 3",
   "language": "python",
   "name": "python3"
  },
  "language_info": {
   "codemirror_mode": {
    "name": "ipython",
    "version": 3
   },
   "file_extension": ".py",
   "mimetype": "text/x-python",
   "name": "python",
   "nbconvert_exporter": "python",
   "pygments_lexer": "ipython3",
   "version": "3.11.4"
  }
 },
 "nbformat": 4,
 "nbformat_minor": 2
}
