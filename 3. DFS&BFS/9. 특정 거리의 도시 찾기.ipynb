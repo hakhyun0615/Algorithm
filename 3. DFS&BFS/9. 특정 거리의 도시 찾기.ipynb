{
 "cells": [
  {
   "cell_type": "code",
   "execution_count": null,
   "metadata": {},
   "outputs": [],
   "source": [
    "from collections import deque\n",
    "\n",
    "n, m, k, x = map(int, input().split())\n",
    "graph = [[] for _ in range(n+1)]\n",
    "\n",
    "for i in range(m):\n",
    "    a, b = map(int, input().split())\n",
    "    graph[a].append(b)\n",
    "\n",
    "distance = [-1] * (n+1)\n",
    "distance[x] = 0 \n",
    "\n",
    "queue = deque([x])\n",
    "while queue:\n",
    "    now = queue.popleft()\n",
    "    for next in graph[now]:\n",
    "        if distance[next] == -1:\n",
    "            distance[next] = distance[now] + 1\n",
    "            queue.append(next)\n",
    "\n",
    "check = False\n",
    "for i in range(1, n+1):\n",
    "    if distance[i] == k:\n",
    "        print(i)\n",
    "        check = True\n",
    "\n",
    "if check == False:\n",
    "    print(-1)"
   ]
  }
 ],
 "metadata": {
  "language_info": {
   "name": "python"
  }
 },
 "nbformat": 4,
 "nbformat_minor": 2
}
