{
 "cells": [
  {
   "cell_type": "markdown",
   "metadata": {},
   "source": [
    "내 bfs 풀이"
   ]
  },
  {
   "cell_type": "code",
   "execution_count": 11,
   "metadata": {},
   "outputs": [
    {
     "name": "stdout",
     "output_type": "stream",
     "text": [
      "2\n",
      "3\n"
     ]
    }
   ],
   "source": [
    "from collections import deque\n",
    "\n",
    "# n(도시의 개수), m(도로의 개수), k(최단 거리), x(출발 도시) 입력 받기\n",
    "n, m, k, x = map(int, input().split())\n",
    "\n",
    "# 인접 리스트 입력 받기\n",
    "graph = [[] for _ in range(n+1)]\n",
    "for _ in range(m):\n",
    "    s, e = map(int, input().split())\n",
    "    graph[s].append(e)\n",
    "\n",
    "# 최단 거리 리스트 선언\n",
    "d = [0 for _ in range(n+1)]\n",
    "\n",
    "# bfs 선언\n",
    "def bfs(s):\n",
    "    queue = deque()\n",
    "    queue.append(s)\n",
    "    \n",
    "    while queue:\n",
    "        pn = queue.popleft()\n",
    "\n",
    "        for n in graph[pn]:\n",
    "            if d[n] == 0:\n",
    "                d[n] = d[pn] + 1\n",
    "            elif d[n] != 0:\n",
    "                if d[pn] + 1 < d[n]:\n",
    "                    d[n] = d[pn] + 1            \n",
    "            queue.append(n)\n",
    "\n",
    "# bfs 실행\n",
    "bfs(x)\n",
    "\n",
    "# 최단거리가 k인 모든 도시의 번호 출력\n",
    "if k in d:\n",
    "    for i in range(len(d)):\n",
    "        if d[i] == k:\n",
    "            print(i)\n",
    "else:\n",
    "    print(-1)"
   ]
  },
  {
   "cell_type": "markdown",
   "metadata": {},
   "source": [
    "내 bfs 풀이 수정"
   ]
  },
  {
   "cell_type": "code",
   "execution_count": 13,
   "metadata": {},
   "outputs": [
    {
     "name": "stdout",
     "output_type": "stream",
     "text": [
      "4\n"
     ]
    }
   ],
   "source": [
    "from collections import deque\n",
    "\n",
    "# n(도시의 개수), m(도로의 개수), k(최단 거리), x(출발 도시) 입력 받기\n",
    "n, m, k, x = map(int, input().split())\n",
    "\n",
    "# 인접 리스트 입력 받기\n",
    "graph = [[] for _ in range(n+1)]\n",
    "for _ in range(m):\n",
    "    s, e = map(int, input().split())\n",
    "    graph[s].append(e)\n",
    "\n",
    "# 최단 거리 리스트 선언\n",
    "d = [-1] * (n+1)\n",
    "d[x] = 0\n",
    "\n",
    "# bfs 선언\n",
    "def bfs(s):\n",
    "    queue = deque()\n",
    "    queue.append(s)\n",
    "    \n",
    "    while queue:\n",
    "        pn = queue.popleft()\n",
    "\n",
    "        for n in graph[pn]:\n",
    "            # 방문하지 않았다면 최단거리 갱신, 큐에 추가 (이미 방문했다면 당연히 이미 최단거리미며 큐에 추가)\n",
    "            if d[n] == -1:\n",
    "                d[n] = d[pn] + 1 \n",
    "                queue.append(n)\n",
    "\n",
    "# bfs 실행\n",
    "bfs(x)\n",
    "\n",
    "# 최단거리가 k인 모든 도시의 번호 출력(in 연산자의 시간복잡도 O(N), check 이용)\n",
    "check = False\n",
    "for i in range(1, n+1):\n",
    "    if d[i] == k:\n",
    "        print(i)\n",
    "        check = True\n",
    "if check == False:\n",
    "    print(-1)"
   ]
  }
 ],
 "metadata": {
  "kernelspec": {
   "display_name": "Python 3",
   "language": "python",
   "name": "python3"
  },
  "language_info": {
   "codemirror_mode": {
    "name": "ipython",
    "version": 3
   },
   "file_extension": ".py",
   "mimetype": "text/x-python",
   "name": "python",
   "nbconvert_exporter": "python",
   "pygments_lexer": "ipython3",
   "version": "3.11.4"
  }
 },
 "nbformat": 4,
 "nbformat_minor": 2
}
