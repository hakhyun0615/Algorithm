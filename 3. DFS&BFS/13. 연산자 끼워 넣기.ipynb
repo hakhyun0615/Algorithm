{
 "cells": [
  {
   "cell_type": "markdown",
   "metadata": {},
   "source": [
    "내 permutations 풀이"
   ]
  },
  {
   "cell_type": "code",
   "execution_count": 14,
   "metadata": {},
   "outputs": [
    {
     "name": "stdout",
     "output_type": "stream",
     "text": [
      "54\n",
      "-24\n"
     ]
    }
   ],
   "source": [
    "from itertools import permutations\n",
    "\n",
    "# N(수의 개수) 입력 받기\n",
    "n = int(input())\n",
    "# Ns(수) 입력 받기\n",
    "ns = list(map(int, input().split()))\n",
    "# 연산자 입력 받기\n",
    "ops_input = list(map(int, input().split()))\n",
    "\n",
    "# 연산자 전처리, 조합\n",
    "ops = ''\n",
    "for i in range(len(ops_input)):\n",
    "    if i == 0:\n",
    "        ops += '+' * ops_input[i]\n",
    "    elif i == 1:\n",
    "        ops += '-' * ops_input[i]\n",
    "    elif i == 2:\n",
    "        ops += '*' * ops_input[i]\n",
    "    else:\n",
    "        ops += '/' * ops_input[i]\n",
    "ops_list = []\n",
    "ops_permuts = permutations(ops)\n",
    "for ops_permut in ops_permuts:\n",
    "    ops_list.append(''.join(ops_permut))\n",
    "\n",
    "# 최대값, 최소값 선언\n",
    "mx = 1e9\n",
    "mn = -1e9\n",
    "\n",
    "# 모든 조합 연산\n",
    "for ops in ops_list:\n",
    "    result = ns[0]\n",
    "    for i in range(len(ops)):\n",
    "        if ops[i] == '+':\n",
    "            result += ns[i+1]\n",
    "        elif ops[i] == '-':\n",
    "            result -= ns[i+1]\n",
    "        elif ops[i] == '*':\n",
    "            result *= ns[i+1]\n",
    "        elif ops[i] == '/':\n",
    "            result //= ns[i+1]\n",
    "    mx = max(mx, result)\n",
    "    mn = min(mn, result)\n",
    "\n",
    "print(mx)\n",
    "print(mn)"
   ]
  }
 ],
 "metadata": {
  "kernelspec": {
   "display_name": "Python 3",
   "language": "python",
   "name": "python3"
  },
  "language_info": {
   "codemirror_mode": {
    "name": "ipython",
    "version": 3
   },
   "file_extension": ".py",
   "mimetype": "text/x-python",
   "name": "python",
   "nbconvert_exporter": "python",
   "pygments_lexer": "ipython3",
   "version": "3.11.4"
  }
 },
 "nbformat": 4,
 "nbformat_minor": 2
}
