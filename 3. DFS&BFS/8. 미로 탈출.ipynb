{
 "cells": [
  {
   "cell_type": "markdown",
   "metadata": {},
   "source": [
    "내 dfs 풀이"
   ]
  },
  {
   "cell_type": "code",
   "execution_count": 30,
   "metadata": {},
   "outputs": [
    {
     "name": "stdout",
     "output_type": "stream",
     "text": [
      "10\n"
     ]
    }
   ],
   "source": [
    "# n(가로 길이), m(세로 길이) 입력받기\n",
    "n, m = map(int, input().split())\n",
    "\n",
    "# 그래프 입력 받기\n",
    "graph = []\n",
    "for _ in range(n):\n",
    "    graph.append(list(map(int, input())))\n",
    "\n",
    "# 상하좌우 선언\n",
    "dr = [-1, 1, 0, 0]\n",
    "dc = [0, 0, -1, 1]\n",
    "\n",
    "# dfs 선언\n",
    "def dfs(r, c):\n",
    "    for i in range(4):\n",
    "        nr = r + dr[i]\n",
    "        nc = c + dc[i]\n",
    "\n",
    "        if (0 <= nr < n) and (0 <= nc < m):\n",
    "            if graph[nr][nc] == 1:\n",
    "                graph[nr][nc] = graph[r][c] + 1\n",
    "                dfs(nr, nc)\n",
    "\n",
    "dfs(0, 0)\n",
    "print(graph[n-1][m-1])"
   ]
  },
  {
   "cell_type": "markdown",
   "metadata": {},
   "source": [
    "내 bfs 풀이 수정"
   ]
  },
  {
   "cell_type": "code",
   "execution_count": 26,
   "metadata": {},
   "outputs": [
    {
     "name": "stdout",
     "output_type": "stream",
     "text": [
      "10\n"
     ]
    }
   ],
   "source": [
    "from collections import deque\n",
    "\n",
    "# n(가로 길이), m(세로 길이) 입력받기\n",
    "n, m = map(int, input().split())\n",
    "\n",
    "# 그래프 입력 받기\n",
    "graph = []\n",
    "for _ in range(n):\n",
    "    graph.append(list(map(int, input())))\n",
    "\n",
    "# 상하좌우 선언\n",
    "dr = [-1, 1, 0, 0]\n",
    "dc = [0, 0, -1, 1]\n",
    "\n",
    "# bfs 선언\n",
    "def bfs(sr, sc):\n",
    "    queue = deque()\n",
    "    queue.append((sr, sc))\n",
    "\n",
    "    while queue:\n",
    "        r, c = queue.popleft()\n",
    "\n",
    "        for i in range(4):\n",
    "            nr = r + dr[i]\n",
    "            nc = c + dc[i]\n",
    "\n",
    "            if (0 <= nr < n) and (0 <= nc < m):\n",
    "                if graph[nr][nc] == 1:\n",
    "                    graph[nr][nc] = graph[r][c] + 1\n",
    "                    queue.append((nr, nc))\n",
    "    \n",
    "    return graph[n-1][m-1]\n",
    "\n",
    "print(bfs(0, 0))"
   ]
  }
 ],
 "metadata": {
  "kernelspec": {
   "display_name": "Python 3",
   "language": "python",
   "name": "python3"
  },
  "language_info": {
   "codemirror_mode": {
    "name": "ipython",
    "version": 3
   },
   "file_extension": ".py",
   "mimetype": "text/x-python",
   "name": "python",
   "nbconvert_exporter": "python",
   "pygments_lexer": "ipython3",
   "version": "3.11.4"
  },
  "orig_nbformat": 4
 },
 "nbformat": 4,
 "nbformat_minor": 2
}
