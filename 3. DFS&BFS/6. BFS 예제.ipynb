{
 "cells": [
  {
   "cell_type": "markdown",
   "metadata": {},
   "source": [
    "- 너비 우선 탐색\n",
    "- 인접한 노드 탐색(가까운 노드부터 탐색)\n",
    "- 큐 자료구조에 기초\n",
    "    1. 탐색 시작 노드를 큐에 삽입하고 방문 처리한다\n",
    "    2. 큐에서 노드를 꺼내 해당 노드의 인접 노드 중에서 방문하지 않은 노드를 모두 큐에 삽입하고 방문 처리를 한다\n",
    "    3. 2번의 과정을 더 이상 수행할 수 없을 때까지 반복한다\n",
    "- O(N)(하지만 일반적으로 DFS보다 수행시간 짧음)"
   ]
  },
  {
   "cell_type": "code",
   "execution_count": 1,
   "metadata": {},
   "outputs": [
    {
     "name": "stdout",
     "output_type": "stream",
     "text": [
      "1 2 3 8 7 4 5 6 "
     ]
    }
   ],
   "source": [
    "from collections import deque\n",
    "\n",
    "def bfs(graph, start, visited):\n",
    "    # 시작 노드 큐에 삽입\n",
    "    queue = deque([start])\n",
    "    # 시작 노드 방문 처리\n",
    "    visited[start] = True\n",
    "\n",
    "    # 큐가 빌 때까지 반복\n",
    "    while queue:\n",
    "        # 큐에서 노드 하나 뽑기\n",
    "        v = queue.popleft()\n",
    "        # 탐색 확정\n",
    "        print(v, end = ' ')\n",
    "\n",
    "        # 탐색 확정된 노드와 연결된\n",
    "        for i in graph[v]:\n",
    "            # 아직 방문하지 않은 노드들을\n",
    "            if not visited[i]:\n",
    "                # 큐에 삽입\n",
    "                queue.append(i)\n",
    "                # 방문 처리\n",
    "                visited[i] = True\n",
    "\n",
    "# 인접 리스트\n",
    "graph = [\n",
    "    [],        # 0\n",
    "    [2,3,8],   # 1\n",
    "    [1,7],     # 2\n",
    "    [1,4,5],   # 3\n",
    "    [3,5],     # 4\n",
    "    [3,4],     # 5\n",
    "    [7],       # 6\n",
    "    [2,6,8],   # 7\n",
    "    [1,7]      # 8\n",
    "] \n",
    "\n",
    "visited = [False] * 9\n",
    "\n",
    "bfs(graph, 1, visited)"
   ]
  }
 ],
 "metadata": {
  "kernelspec": {
   "display_name": "Python 3",
   "language": "python",
   "name": "python3"
  },
  "language_info": {
   "codemirror_mode": {
    "name": "ipython",
    "version": 3
   },
   "file_extension": ".py",
   "mimetype": "text/x-python",
   "name": "python",
   "nbconvert_exporter": "python",
   "pygments_lexer": "ipython3",
   "version": "3.11.4"
  },
  "orig_nbformat": 4
 },
 "nbformat": 4,
 "nbformat_minor": 2
}
