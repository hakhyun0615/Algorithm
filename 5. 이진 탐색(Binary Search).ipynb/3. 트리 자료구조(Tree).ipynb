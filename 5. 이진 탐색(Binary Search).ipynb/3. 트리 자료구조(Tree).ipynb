{
 "cells": [
  {
   "cell_type": "markdown",
   "metadata": {},
   "source": [
    "- 트리: 부모 노드와 자식 노드의 관계를 표현\n",
    "- 루트 노드: 트리의 최상단 노드\n",
    "- 단말 노드: 트리의 최하단 노드\n",
    "- 서브 트리: 트리의 일부\n",
    "- 트리는 파일 시스템과 같이 계층적이고 정렬된 데이터를 다루기에 적합"
   ]
  }
 ],
 "metadata": {
  "language_info": {
   "name": "python"
  },
  "orig_nbformat": 4
 },
 "nbformat": 4,
 "nbformat_minor": 2
}
