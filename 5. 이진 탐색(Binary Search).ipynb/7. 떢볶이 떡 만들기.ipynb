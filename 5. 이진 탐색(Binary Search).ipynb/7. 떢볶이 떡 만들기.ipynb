{
 "cells": [
  {
   "cell_type": "code",
   "execution_count": 3,
   "metadata": {},
   "outputs": [
    {
     "name": "stdout",
     "output_type": "stream",
     "text": [
      "15\n"
     ]
    }
   ],
   "source": [
    "n,m = map(int, input().split())\n",
    "array = list(map(int, input().split()))\n",
    "\n",
    "# 이진 탐색을 위한 시작점과 끝점 설정\n",
    "start = 0\n",
    "end = max(array)\n",
    "\n",
    "result = 0\n",
    "\n",
    "while start <= end:\n",
    "    total = 0\n",
    "    mid = (start+end)//2\n",
    "\n",
    "    # 잘린 떡의 양\n",
    "    for x in array:\n",
    "        if x > mid:\n",
    "            total += x-mid\n",
    "\n",
    "    if total < m:\n",
    "        end = mid-1\n",
    "    else:\n",
    "        start = mid+1\n",
    "        result = mid\n",
    "\n",
    "print(result)"
   ]
  }
 ],
 "metadata": {
  "kernelspec": {
   "display_name": "Python 3",
   "language": "python",
   "name": "python3"
  },
  "language_info": {
   "codemirror_mode": {
    "name": "ipython",
    "version": 3
   },
   "file_extension": ".py",
   "mimetype": "text/x-python",
   "name": "python",
   "nbconvert_exporter": "python",
   "pygments_lexer": "ipython3",
   "version": "3.11.4"
  },
  "orig_nbformat": 4
 },
 "nbformat": 4,
 "nbformat_minor": 2
}
