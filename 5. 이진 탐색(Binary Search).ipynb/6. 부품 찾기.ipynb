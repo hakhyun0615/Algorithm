{
 "cells": [
  {
   "cell_type": "code",
   "execution_count": 3,
   "metadata": {},
   "outputs": [
    {
     "name": "stdout",
     "output_type": "stream",
     "text": [
      "no yes yes "
     ]
    }
   ],
   "source": [
    "# 이진 탐색 이용\n",
    "n = int(input())\n",
    "array = list(map(int, input().split()))\n",
    "array.sort()\n",
    "\n",
    "m = int(input(()))\n",
    "calls = list(map(int, input().split()))\n",
    "\n",
    "def binary_search(array, target, start, end):\n",
    "    if start > end:\n",
    "        return None\n",
    "\n",
    "    mid = (start+end)//2\n",
    "\n",
    "    if array[mid] < target:\n",
    "        return binary_search(array, target, mid+1, end)\n",
    "    elif array[mid] > target:\n",
    "        return binary_search(array, target, start, mid-1)\n",
    "    else:\n",
    "        return mid\n",
    "    \n",
    "\n",
    "\n",
    "for call in calls:\n",
    "    if binary_search(array, call, 0, n-1) == None:\n",
    "        print('no', end=' ')\n",
    "    else:\n",
    "        print('yes', end=' ')\n"
   ]
  },
  {
   "cell_type": "code",
   "execution_count": 4,
   "metadata": {},
   "outputs": [
    {
     "name": "stdout",
     "output_type": "stream",
     "text": [
      "no yes yes "
     ]
    }
   ],
   "source": [
    "# 계수 정렬 이용\n",
    "n = int(input())\n",
    "array = [0] * 1000001\n",
    "for i in list(map(int, input().split())):\n",
    "    array[i] += 1\n",
    "\n",
    "m = int(input(()))\n",
    "calls = list(map(int, input().split()))\n",
    "\n",
    "for call in calls:\n",
    "    if array[call] == 1:\n",
    "        print('yes', end=' ')\n",
    "    else:\n",
    "        print('no', end=' ')"
   ]
  },
  {
   "cell_type": "code",
   "execution_count": 5,
   "metadata": {},
   "outputs": [
    {
     "name": "stdout",
     "output_type": "stream",
     "text": [
      "no yes yes "
     ]
    }
   ],
   "source": [
    "# 집합 이용(특정 데이터가 존재하는지 검사할 때 매우 효과적)\n",
    "n = int(input())\n",
    "array = set(map(int, input().split()))\n",
    "\n",
    "m = int(input(()))\n",
    "calls = list(map(int, input().split()))\n",
    "\n",
    "for call in calls:\n",
    "    if call in array:\n",
    "        print('yes', end=' ')\n",
    "    else:\n",
    "        print('no', end=' ')"
   ]
  }
 ],
 "metadata": {
  "kernelspec": {
   "display_name": "Python 3",
   "language": "python",
   "name": "python3"
  },
  "language_info": {
   "codemirror_mode": {
    "name": "ipython",
    "version": 3
   },
   "file_extension": ".py",
   "mimetype": "text/x-python",
   "name": "python",
   "nbconvert_exporter": "python",
   "pygments_lexer": "ipython3",
   "version": "3.11.4"
  },
  "orig_nbformat": 4
 },
 "nbformat": 4,
 "nbformat_minor": 2
}
