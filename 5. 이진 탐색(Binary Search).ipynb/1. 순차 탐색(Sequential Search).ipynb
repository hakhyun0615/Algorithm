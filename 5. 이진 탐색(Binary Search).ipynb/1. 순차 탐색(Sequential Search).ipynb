{
 "cells": [
  {
   "cell_type": "markdown",
   "metadata": {},
   "source": [
    "- 리스트 안에 있는 특정한 데이터를 찾기 위해 앞에서부터 데이터를 하나씩 차례대로 확인\n",
    "- O(N)"
   ]
  },
  {
   "cell_type": "code",
   "execution_count": 1,
   "metadata": {},
   "outputs": [
    {
     "name": "stdout",
     "output_type": "stream",
     "text": [
      "3\n"
     ]
    }
   ],
   "source": [
    "def sequential_search(n, target, array):\n",
    "    for i in range(n):\n",
    "        if array[i] == target:\n",
    "            return i+1\n",
    "        \n",
    "input_data = input().split()\n",
    "n = int(input_data[0])\n",
    "target = input_data[1]\n",
    "\n",
    "array = input().split()\n",
    "\n",
    "print(sequential_search(n,target,array))"
   ]
  }
 ],
 "metadata": {
  "kernelspec": {
   "display_name": "Python 3",
   "language": "python",
   "name": "python3"
  },
  "language_info": {
   "codemirror_mode": {
    "name": "ipython",
    "version": 3
   },
   "file_extension": ".py",
   "mimetype": "text/x-python",
   "name": "python",
   "nbconvert_exporter": "python",
   "pygments_lexer": "ipython3",
   "version": "3.11.4"
  },
  "orig_nbformat": 4
 },
 "nbformat": 4,
 "nbformat_minor": 2
}
