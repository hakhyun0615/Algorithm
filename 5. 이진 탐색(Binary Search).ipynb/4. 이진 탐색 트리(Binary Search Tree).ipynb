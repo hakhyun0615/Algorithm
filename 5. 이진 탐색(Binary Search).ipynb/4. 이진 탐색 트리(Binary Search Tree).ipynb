{
 "cells": [
  {
   "cell_type": "markdown",
   "metadata": {},
   "source": [
    "- 이진 탐색 트리: 이진 탐색이 동작할 수 있도록 고안된 트리\n",
    "- 왼쪽 자식 노드 < 부모 노드 < 오른쪽 자식 노드\n",
    "- 데이터 조회: 루트 노드부터 방문하고 비교하면서 내려간다"
   ]
  }
 ],
 "metadata": {
  "language_info": {
   "name": "python"
  },
  "orig_nbformat": 4
 },
 "nbformat": 4,
 "nbformat_minor": 2
}
